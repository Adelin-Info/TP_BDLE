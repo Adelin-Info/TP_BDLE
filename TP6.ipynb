{
  "nbformat": 4,
  "nbformat_minor": 0,
  "metadata": {
    "application/vnd.databricks.v1+notebook": {
      "notebookName": "Spark-RDD-2021_solutions",
      "dashboards": [],
      "notebookMetadata": {
        "pythonIndentUnit": 2
      },
      "language": "python",
      "widgets": {},
      "notebookOrigID": 2832703719774903
    },
    "colab": {
      "provenance": [],
      "toc_visible": true
    },
    "language_info": {
      "name": "python"
    },
    "kernelspec": {
      "name": "python3",
      "display_name": "Python 3"
    }
  },
  "cells": [
    {
      "cell_type": "markdown",
      "metadata": {
        "application/vnd.databricks.v1+cell": {
          "title": "",
          "showTitle": false,
          "inputWidgets": {},
          "nuid": "59ad38d8-fb28-470f-a038-842f83d07a09"
        },
        "id": "kCaImCHx_2a_"
      },
      "source": [
        "* Master DAC - BDLE\n",
        "* Author: Mohamed-Amine Baazizi\n",
        "* Affiliation: LIP6 - Faculté des Sciences - Sorbonne Université\n",
        "* Email: mohamed-amine.baazizi@lip6.fr\n",
        "* October 2024\n"
      ]
    },
    {
      "cell_type": "markdown",
      "source": [
        "FERCHE Adelin-Flaviu \\\n",
        "3800655 \\\n",
        "M2 SAR"
      ],
      "metadata": {
        "id": "P3bTcvLH3uch"
      }
    },
    {
      "cell_type": "markdown",
      "source": [
        "# Map-Reduce in Spark"
      ],
      "metadata": {
        "id": "wwylGSf5m-0y"
      }
    },
    {
      "cell_type": "markdown",
      "metadata": {
        "application/vnd.databricks.v1+cell": {
          "title": "",
          "showTitle": false,
          "inputWidgets": {},
          "nuid": "9fba542c-e80b-4537-97be-d3af3cac7e19"
        },
        "id": "ee9AXss0_2bB"
      },
      "source": [
        "The goal of this lab is to write programs in the Map-Reduce paradigm using the RDD-python API of Spark.\n",
        "The API for documentation is available here:\n",
        "\n",
        "- https://spark.apache.org/docs/latest/api/python/reference/pyspark.html\n",
        "\n",
        "\n",
        "You are expected to use the following higher order functions like `map, flatMap, filter, reduceByKey, groupByKey, join, zipWithIndex` and the standard relational operators `union, intersection, subtract, join` and to favor functional-style programming."
      ]
    },
    {
      "cell_type": "markdown",
      "metadata": {
        "application/vnd.databricks.v1+cell": {
          "title": "",
          "showTitle": false,
          "inputWidgets": {},
          "nuid": "b15737ae-19bd-4b9f-b9f3-52388cc5e50e"
        },
        "id": "levNDESpS1hT"
      },
      "source": [
        "## Pre-requisite"
      ]
    },
    {
      "cell_type": "markdown",
      "source": [
        "#### Installation"
      ],
      "metadata": {
        "id": "kMxsR_ipyqPl"
      }
    },
    {
      "cell_type": "code",
      "metadata": {
        "id": "3zlwNHy1S8C2"
      },
      "source": [
        "%%capture\n",
        "!pip install -q pyspark"
      ],
      "execution_count": 1,
      "outputs": []
    },
    {
      "cell_type": "code",
      "source": [
        "from pyspark import SparkConf\n",
        "from pyspark.context import SparkContext\n",
        "from pyspark.sql import SparkSession\n",
        "\n",
        "local = \"local[*]\"\n",
        "appName = \"Spark-RDD\"\n",
        "localConfig = SparkConf().setAppName(appName).setMaster(local).\\\n",
        "  set(\"spark.executor.memory\", \"6G\").\\\n",
        "  set(\"spark.driver.memory\",\"6G\")\n",
        "\n",
        "spark = SparkSession.builder.config(conf = localConfig).getOrCreate()\n",
        "sc = spark.sparkContext\n",
        "sc.setLogLevel(\"ERROR\")"
      ],
      "metadata": {
        "id": "Emf5YGVZvibJ"
      },
      "execution_count": 2,
      "outputs": []
    },
    {
      "cell_type": "markdown",
      "metadata": {
        "application/vnd.databricks.v1+cell": {
          "title": "",
          "showTitle": false,
          "inputWidgets": {},
          "nuid": "41dd8b8e-d697-4efb-a1d2-cd34a08b3e7e"
        },
        "id": "NtjUaom1_2bC"
      },
      "source": [
        "### Data loading\n",
        "Create a sub-directory `ens/data/SparkMR` into your storage space in Google Drive than download this [file](https://drive.google.com/file/d/1sqCeOKJ38E2Nc67Kn19ilKlHsBvTQAtW/view?usp=sharing) into this sub-directory."
      ]
    },
    {
      "cell_type": "code",
      "source": [
        "! mkdir -p /tmp/spark-rdd/"
      ],
      "metadata": {
        "id": "sU0sWNdBvmV2"
      },
      "execution_count": 3,
      "outputs": []
    },
    {
      "cell_type": "code",
      "source": [
        "! wget https://nuage.lip6.fr/s/BMHNNgi9YoKCmCi/download/wordcount.txt -O /tmp/spark-rdd/wordcount.txt"
      ],
      "metadata": {
        "colab": {
          "base_uri": "https://localhost:8080/"
        },
        "id": "EY8Bt7cICXnQ",
        "outputId": "60132718-97dc-4031-c772-49ca84c6bcbc"
      },
      "execution_count": 4,
      "outputs": [
        {
          "output_type": "stream",
          "name": "stdout",
          "text": [
            "--2024-10-28 15:59:11--  https://nuage.lip6.fr/s/BMHNNgi9YoKCmCi/download/wordcount.txt\n",
            "Resolving nuage.lip6.fr (nuage.lip6.fr)... 132.227.201.11\n",
            "Connecting to nuage.lip6.fr (nuage.lip6.fr)|132.227.201.11|:443... connected.\n",
            "HTTP request sent, awaiting response... 200 OK\n",
            "Length: 799738 (781K) [text/plain]\n",
            "Saving to: ‘/tmp/spark-rdd/wordcount.txt’\n",
            "\n",
            "/tmp/spark-rdd/word 100%[===================>] 780.99K  1.02MB/s    in 0.8s    \n",
            "\n",
            "2024-10-28 15:59:13 (1.02 MB/s) - ‘/tmp/spark-rdd/wordcount.txt’ saved [799738/799738]\n",
            "\n"
          ]
        }
      ]
    },
    {
      "cell_type": "code",
      "source": [
        "! ls /tmp/spark-rdd/wordcount.txt"
      ],
      "metadata": {
        "colab": {
          "base_uri": "https://localhost:8080/"
        },
        "id": "vdDZrGXdCfPc",
        "outputId": "cf357223-c88b-484a-8bb0-107b9dc0216d"
      },
      "execution_count": 5,
      "outputs": [
        {
          "output_type": "stream",
          "name": "stdout",
          "text": [
            "/tmp/spark-rdd/wordcount.txt\n"
          ]
        }
      ]
    },
    {
      "cell_type": "code",
      "source": [
        "#display n elements\n",
        "n=10"
      ],
      "metadata": {
        "id": "qLN5ZAWw2jYs"
      },
      "execution_count": 6,
      "outputs": []
    },
    {
      "cell_type": "code",
      "source": [
        "wc_path = '/tmp/spark-rdd/wordcount.txt'"
      ],
      "metadata": {
        "id": "CZuERdP_DRum"
      },
      "execution_count": 7,
      "outputs": []
    },
    {
      "cell_type": "markdown",
      "metadata": {
        "application/vnd.databricks.v1+cell": {
          "title": "",
          "showTitle": false,
          "inputWidgets": {},
          "nuid": "da441951-c647-4f43-a39f-a4f3d5d78834"
        },
        "id": "sJxVYsj4_2bE"
      },
      "source": [
        "## Simplified TF*IDF"
      ]
    },
    {
      "cell_type": "markdown",
      "metadata": {
        "application/vnd.databricks.v1+cell": {
          "title": "",
          "showTitle": false,
          "inputWidgets": {},
          "nuid": "7b55b445-bb8c-4476-a113-b7c123d6dbf9"
        },
        "id": "hlMsPzZe_2bF"
      },
      "source": [
        "Write instructions to compute the simplified version of TF*IDF for a synthetic corpus of words.\n",
        "The input data is an RDD of pairs $$(d_i, [w_1,\\ldots,w_{n_i}])$$\n",
        "where:\n",
        "* $d_i$ is a document identifier and\n",
        "* $[w_1,\\ldots,w_{n_i}]$ a list of words associated to $d_i$  with possible repetition.\n",
        "\n",
        "You are expected to produce an RDD of triples $$(d_l, w_m,  tf \\times idf)$$\n",
        "where:\n",
        "* $tf$ is the frequency of $w_m$ in $d_l$ and\n",
        "* $idf$ is the number of documents where $w_m$ appears"
      ]
    },
    {
      "cell_type": "code",
      "metadata": {
        "application/vnd.databricks.v1+cell": {
          "title": "",
          "showTitle": false,
          "inputWidgets": {},
          "nuid": "fdd28cf0-01ca-4d1e-86fe-331d4d31bb88"
        },
        "colab": {
          "base_uri": "https://localhost:8080/"
        },
        "id": "VozqQ8fQ_2bF",
        "outputId": "8281a376-e73b-43fa-d4ca-bfd3a19de180"
      },
      "source": [
        "dataset = ['d1,one fish two fish','d2,red fish blue', 'd3,one red bird']\n",
        "data = spark.sparkContext.parallelize(dataset)\n",
        "lines = data.filter(lambda x: x!='')\\\n",
        ".map(lambda x : x.split(\",\")).map(lambda x:(x[0],x[1].split(\" \")))\n",
        "lines.take(n)"
      ],
      "execution_count": 8,
      "outputs": [
        {
          "output_type": "execute_result",
          "data": {
            "text/plain": [
              "[('d1', ['one', 'fish', 'two', 'fish']),\n",
              " ('d2', ['red', 'fish', 'blue']),\n",
              " ('d3', ['one', 'red', 'bird'])]"
            ]
          },
          "metadata": {},
          "execution_count": 8
        }
      ]
    },
    {
      "cell_type": "code",
      "metadata": {
        "colab": {
          "base_uri": "https://localhost:8080/"
        },
        "id": "GhTlzQBUlpCf",
        "outputId": "60c9e30f-3301-4cd8-8e47-d9e50324cf38"
      },
      "source": [
        "count = data.count()\n",
        "count"
      ],
      "execution_count": 9,
      "outputs": [
        {
          "output_type": "execute_result",
          "data": {
            "text/plain": [
              "3"
            ]
          },
          "metadata": {},
          "execution_count": 9
        }
      ]
    },
    {
      "cell_type": "markdown",
      "metadata": {
        "application/vnd.databricks.v1+cell": {
          "title": "",
          "showTitle": false,
          "inputWidgets": {},
          "nuid": "b564aa25-2c55-42de-b8d9-7b891124ccb2"
        },
        "id": "a6I4jiUe_2bG"
      },
      "source": [
        "complete the stub of `combine` which is a python function that combines each word in `list` with `word` given as argument"
      ]
    },
    {
      "cell_type": "code",
      "metadata": {
        "application/vnd.databricks.v1+cell": {
          "title": "",
          "showTitle": false,
          "inputWidgets": {},
          "nuid": "beedc2cf-dcfc-42aa-97cc-8df92de5dc18"
        },
        "id": "AihTGDo0_2bH"
      },
      "source": [
        "def combine(word, list):\n",
        "  res = []\n",
        "  for w in list:\n",
        "    res.append((word,w))\n",
        "  return res"
      ],
      "execution_count": 10,
      "outputs": []
    },
    {
      "cell_type": "code",
      "metadata": {
        "application/vnd.databricks.v1+cell": {
          "title": "",
          "showTitle": false,
          "inputWidgets": {},
          "nuid": "647ae7f1-ae6e-4b1a-862d-2794304d3afa"
        },
        "colab": {
          "base_uri": "https://localhost:8080/"
        },
        "id": "duRmK0yS_2bH",
        "outputId": "f4ecf9b5-46db-456a-f769-f3a9c91bb0cd"
      },
      "source": [
        "list = ['one', 'red', 'bird']\n",
        "word = 'd1'\n",
        "combine(word,list)"
      ],
      "execution_count": 11,
      "outputs": [
        {
          "output_type": "execute_result",
          "data": {
            "text/plain": [
              "[('d1', 'one'), ('d1', 'red'), ('d1', 'bird')]"
            ]
          },
          "metadata": {},
          "execution_count": 11
        }
      ]
    },
    {
      "cell_type": "markdown",
      "metadata": {
        "application/vnd.databricks.v1+cell": {
          "title": "",
          "showTitle": false,
          "inputWidgets": {},
          "nuid": "8b2fe5bc-751b-49c8-87c5-47e99e0674b3"
        },
        "id": "1FaUj-Hc_2bI"
      },
      "source": [
        "starting from `lines` produce and RDD of all pairs $$(d_i, w_j)$$"
      ]
    },
    {
      "cell_type": "code",
      "source": [
        "word_doc = lines.flatMap(lambda x: combine(x[0], x[1]))\n",
        "word_doc.take(n)"
      ],
      "metadata": {
        "id": "c25syNIzZLd5",
        "colab": {
          "base_uri": "https://localhost:8080/"
        },
        "outputId": "df9e779c-4a7a-4d4b-e409-e69dca3402cd"
      },
      "execution_count": 12,
      "outputs": [
        {
          "output_type": "execute_result",
          "data": {
            "text/plain": [
              "[('d1', 'one'),\n",
              " ('d1', 'fish'),\n",
              " ('d1', 'two'),\n",
              " ('d1', 'fish'),\n",
              " ('d2', 'red'),\n",
              " ('d2', 'fish'),\n",
              " ('d2', 'blue'),\n",
              " ('d3', 'one'),\n",
              " ('d3', 'red'),\n",
              " ('d3', 'bird')]"
            ]
          },
          "metadata": {},
          "execution_count": 12
        }
      ]
    },
    {
      "cell_type": "code",
      "metadata": {
        "application/vnd.databricks.v1+cell": {
          "title": "",
          "showTitle": false,
          "inputWidgets": {},
          "nuid": "69760fca-df32-4847-a5f0-15a67370c275"
        },
        "colab": {
          "base_uri": "https://localhost:8080/"
        },
        "id": "rVn7-skp_2bJ",
        "outputId": "3ff798c4-e52b-4919-feed-3736bf305d71"
      },
      "source": [
        "word_doc = lines.flatMap(lambda x: combine(x[0], x[1]))\n",
        "word_doc.take(n)"
      ],
      "execution_count": 13,
      "outputs": [
        {
          "output_type": "execute_result",
          "data": {
            "text/plain": [
              "[('d1', 'one'),\n",
              " ('d1', 'fish'),\n",
              " ('d1', 'two'),\n",
              " ('d1', 'fish'),\n",
              " ('d2', 'red'),\n",
              " ('d2', 'fish'),\n",
              " ('d2', 'blue'),\n",
              " ('d3', 'one'),\n",
              " ('d3', 'red'),\n",
              " ('d3', 'bird')]"
            ]
          },
          "metadata": {},
          "execution_count": 13
        }
      ]
    },
    {
      "cell_type": "code",
      "metadata": {
        "application/vnd.databricks.v1+cell": {
          "title": "",
          "showTitle": false,
          "inputWidgets": {},
          "nuid": "233897e1-0c96-4ab4-9a82-6e7e8841466b"
        },
        "id": "wILBLbgB_2bK"
      },
      "source": [
        "def add(a,b):\n",
        "  return a+b"
      ],
      "execution_count": 14,
      "outputs": []
    },
    {
      "cell_type": "markdown",
      "metadata": {
        "application/vnd.databricks.v1+cell": {
          "title": "",
          "showTitle": false,
          "inputWidgets": {},
          "nuid": "747d26f2-3587-40da-8a68-5ab4b9b6c8dc"
        },
        "id": "LnxzATVg_2bK"
      },
      "source": [
        "For each pair (document,word), count its frequency"
      ]
    },
    {
      "cell_type": "code",
      "metadata": {
        "application/vnd.databricks.v1+cell": {
          "title": "",
          "showTitle": false,
          "inputWidgets": {},
          "nuid": "94ddd20a-56e4-4766-a65e-89cc74a41d96"
        },
        "colab": {
          "base_uri": "https://localhost:8080/"
        },
        "id": "J1-pKl1H_2bK",
        "outputId": "d940e712-511d-493b-ea80-132d4c952401"
      },
      "source": [
        "freq_word_doc = word_doc.map(lambda x: ((x[0], x[1]), 1)).reduceByKey(add)\n",
        "freq_word_doc.take(n)"
      ],
      "execution_count": 15,
      "outputs": [
        {
          "output_type": "execute_result",
          "data": {
            "text/plain": [
              "[(('d1', 'one'), 1),\n",
              " (('d2', 'fish'), 1),\n",
              " (('d3', 'one'), 1),\n",
              " (('d3', 'red'), 1),\n",
              " (('d1', 'fish'), 2),\n",
              " (('d1', 'two'), 1),\n",
              " (('d2', 'red'), 1),\n",
              " (('d2', 'blue'), 1),\n",
              " (('d3', 'bird'), 1)]"
            ]
          },
          "metadata": {},
          "execution_count": 15
        }
      ]
    },
    {
      "cell_type": "markdown",
      "metadata": {
        "id": "SNqc70jpjSig"
      },
      "source": [
        "for each word, produce a pair (d,freq)"
      ]
    },
    {
      "cell_type": "code",
      "metadata": {
        "colab": {
          "base_uri": "https://localhost:8080/"
        },
        "id": "MMlY-JFZkloL",
        "outputId": "83d130ab-adb4-4922-bf12-59b3ae9b0167"
      },
      "source": [
        "freq_word = freq_word_doc.map(lambda x: (x[0][1], (x[0][0], x[1])))\n",
        "freq_word.take(n)"
      ],
      "execution_count": 16,
      "outputs": [
        {
          "output_type": "execute_result",
          "data": {
            "text/plain": [
              "[('one', ('d1', 1)),\n",
              " ('fish', ('d2', 1)),\n",
              " ('one', ('d3', 1)),\n",
              " ('red', ('d3', 1)),\n",
              " ('fish', ('d1', 2)),\n",
              " ('two', ('d1', 1)),\n",
              " ('red', ('d2', 1)),\n",
              " ('blue', ('d2', 1)),\n",
              " ('bird', ('d3', 1))]"
            ]
          },
          "metadata": {},
          "execution_count": 16
        }
      ]
    },
    {
      "cell_type": "markdown",
      "metadata": {
        "id": "kR-GrBQrqMlx"
      },
      "source": [
        "for each word, compute its document frequency, i.e the number of documents in which it appears"
      ]
    },
    {
      "cell_type": "code",
      "metadata": {
        "colab": {
          "base_uri": "https://localhost:8080/"
        },
        "id": "TBXOJRVGjQo5",
        "outputId": "105a9657-2302-49f1-ab18-05d2a62936b2"
      },
      "source": [
        "freq_doc = freq_word.map(lambda x: (x[0], x[1][1])).reduceByKey(add).map(lambda x: (x[0], 3 / x[1]))\n",
        "freq_doc.take(n)"
      ],
      "execution_count": 17,
      "outputs": [
        {
          "output_type": "execute_result",
          "data": {
            "text/plain": [
              "[('fish', 1.0),\n",
              " ('two', 3.0),\n",
              " ('bird', 3.0),\n",
              " ('one', 1.5),\n",
              " ('red', 1.5),\n",
              " ('blue', 3.0)]"
            ]
          },
          "metadata": {},
          "execution_count": 17
        }
      ]
    },
    {
      "cell_type": "markdown",
      "metadata": {
        "application/vnd.databricks.v1+cell": {
          "title": "",
          "showTitle": false,
          "inputWidgets": {},
          "nuid": "a438cbe9-9d8e-4548-812f-94dc4e80b7c7"
        },
        "id": "K6gugWm3_2bM"
      },
      "source": [
        "for each word, compute its simplified score"
      ]
    },
    {
      "cell_type": "code",
      "metadata": {
        "colab": {
          "base_uri": "https://localhost:8080/"
        },
        "id": "4bUg0AUOkZxq",
        "outputId": "a22fa230-bda5-4a11-9bad-c9adff7f58fa"
      },
      "source": [
        "final = freq_word.join(freq_doc).map(lambda x: (x[0], x[1][0][0], x[1][1]))\n",
        "final.take(n)"
      ],
      "execution_count": 18,
      "outputs": [
        {
          "output_type": "execute_result",
          "data": {
            "text/plain": [
              "[('two', 'd1', 3.0),\n",
              " ('bird', 'd3', 3.0),\n",
              " ('red', 'd3', 1.5),\n",
              " ('red', 'd2', 1.5),\n",
              " ('blue', 'd2', 3.0),\n",
              " ('fish', 'd2', 1.0),\n",
              " ('fish', 'd1', 1.0),\n",
              " ('one', 'd1', 1.5),\n",
              " ('one', 'd3', 1.5)]"
            ]
          },
          "metadata": {},
          "execution_count": 18
        }
      ]
    },
    {
      "cell_type": "markdown",
      "metadata": {
        "application/vnd.databricks.v1+cell": {
          "title": "",
          "showTitle": false,
          "inputWidgets": {},
          "nuid": "f5bb2c2d-375d-46a5-a65d-bc4666fbc6f2"
        },
        "id": "3A1Ky2-7_2bN"
      },
      "source": [
        "## Text analytics"
      ]
    },
    {
      "cell_type": "markdown",
      "metadata": {
        "application/vnd.databricks.v1+cell": {
          "title": "",
          "showTitle": false,
          "inputWidgets": {},
          "nuid": "ab5bbde1-7466-4c89-b95f-78feed13a0ca"
        },
        "id": "y2eBlT4G_2bN"
      },
      "source": [
        "The goal is to compute the SPMI (simplified pointwise mutual information) metric for words in a corpus.\n",
        "Given two words, a and b, we call $ab$ a *bigram* when $a$ preceds $b$ in the corpus.\n",
        "We would like to implement the following formulae:  \n",
        "\n",
        "$$SPMI(a, b) =  \\frac{P(ab)}{P(a) * P(b)}$$\n",
        "where:\n",
        "\n",
        "* $a$ and $b$ are words from the corpus,\n",
        "* $P(ab)$ is the frequency of the bigram $ab$ relatively to the number of all *distinct* bigrams in the coprus and\n",
        "* $P(a)$, resp. $P(b)$ is the frequency of the word $a$, resp. $b$ relatively to all *distinct* words from the corpus\n"
      ]
    },
    {
      "cell_type": "code",
      "metadata": {
        "application/vnd.databricks.v1+cell": {
          "title": "",
          "showTitle": false,
          "inputWidgets": {},
          "nuid": "c5ee7820-75bd-4928-b2c5-c073bc08b099"
        },
        "id": "pg41kQfy_2bN"
      },
      "source": [
        "def removespecialchars (word) :\n",
        "    charstoremove = ['[',']','*','#','.','_',':','?','!',',',';','“','”','\\n']\n",
        "    for ch in word:\n",
        "        if ch in charstoremove:\n",
        "            word = word.replace(ch,'')\n",
        "    return word"
      ],
      "execution_count": 19,
      "outputs": []
    },
    {
      "cell_type": "markdown",
      "metadata": {
        "application/vnd.databricks.v1+cell": {
          "title": "",
          "showTitle": false,
          "inputWidgets": {},
          "nuid": "094f58d0-6bd5-4358-b813-44e9cad9f8b0"
        },
        "id": "PjrIcZop_2bO"
      },
      "source": [
        "Read file in utf-8 using use_unicode=False"
      ]
    },
    {
      "cell_type": "code",
      "metadata": {
        "application/vnd.databricks.v1+cell": {
          "title": "",
          "showTitle": false,
          "inputWidgets": {},
          "nuid": "32835aca-879b-44c4-a711-80394bafc061"
        },
        "colab": {
          "base_uri": "https://localhost:8080/"
        },
        "id": "SFfXLzxX_2bP",
        "outputId": "0529229f-f1cd-427d-f4eb-98fb8fb37254"
      },
      "source": [
        "data = spark.sparkContext.textFile(wc_path, use_unicode=\"False\")\n",
        "print(\"before filtering there are %d lines\" % data.count())\n",
        "# data.take(n)\n",
        "lines = data.filter(lambda x: x!='')\\\n",
        ".map(lambda x:removespecialchars(x))\\\n",
        ".map(lambda x : x.split(\" \"))\n",
        "print(\"after filtering there are %d lines\" % lines.count())\n"
      ],
      "execution_count": 20,
      "outputs": [
        {
          "output_type": "stream",
          "name": "stdout",
          "text": [
            "before filtering there are 14594 lines\n",
            "after filtering there are 12153 lines\n"
          ]
        }
      ]
    },
    {
      "cell_type": "markdown",
      "metadata": {
        "application/vnd.databricks.v1+cell": {
          "title": "",
          "showTitle": false,
          "inputWidgets": {},
          "nuid": "6f09fdc9-c2bc-45ce-9fa5-b1572210a33c"
        },
        "id": "0JZEGq1c_2bP"
      },
      "source": [
        "retrieve the list of 10 first words"
      ]
    },
    {
      "cell_type": "code",
      "metadata": {
        "application/vnd.databricks.v1+cell": {
          "title": "",
          "showTitle": false,
          "inputWidgets": {},
          "nuid": "d6b46df5-117a-4d75-ba47-825ffb07ba44"
        },
        "colab": {
          "base_uri": "https://localhost:8080/"
        },
        "id": "D7omXEru_2bP",
        "outputId": "5757bbcc-c823-48fb-b04c-7231073a5ca9"
      },
      "source": [
        "words = lines.flatMap(lambda x: x)\n",
        "words.take(n)"
      ],
      "execution_count": 21,
      "outputs": [
        {
          "output_type": "execute_result",
          "data": {
            "text/plain": [
              "['The',\n",
              " 'Project',\n",
              " 'Gutenberg',\n",
              " 'EBook',\n",
              " 'of',\n",
              " 'Pride',\n",
              " 'and',\n",
              " 'Prejudice',\n",
              " 'by',\n",
              " 'Jane']"
            ]
          },
          "metadata": {},
          "execution_count": 21
        }
      ]
    },
    {
      "cell_type": "markdown",
      "metadata": {
        "application/vnd.databricks.v1+cell": {
          "title": "",
          "showTitle": false,
          "inputWidgets": {},
          "nuid": "b4d08473-bacb-4f7b-b40c-8cac5a6e48b2"
        },
        "id": "bnck6h-F_2bQ"
      },
      "source": [
        "compute the frequency of each word"
      ]
    },
    {
      "cell_type": "code",
      "metadata": {
        "application/vnd.databricks.v1+cell": {
          "title": "",
          "showTitle": false,
          "inputWidgets": {},
          "nuid": "6c3e36f8-963c-4eef-8fed-232783b255d3"
        },
        "colab": {
          "base_uri": "https://localhost:8080/"
        },
        "id": "MTLQJCFj_2bQ",
        "outputId": "c7f00496-3376-4b2c-fb83-2af74e345894"
      },
      "source": [
        "wordcount = words.map(lambda x: (x, 1)).reduceByKey(add)\n",
        "wordcount.take(n)"
      ],
      "execution_count": 22,
      "outputs": [
        {
          "output_type": "execute_result",
          "data": {
            "text/plain": [
              "[('The', 285),\n",
              " ('Project', 83),\n",
              " ('EBook', 3),\n",
              " ('of', 3693),\n",
              " ('Pride', 6),\n",
              " ('Jane', 263),\n",
              " ('Austen', 4),\n",
              " ('is', 859),\n",
              " ('use', 23),\n",
              " ('anyone', 29)]"
            ]
          },
          "metadata": {},
          "execution_count": 22
        }
      ]
    },
    {
      "cell_type": "markdown",
      "metadata": {
        "application/vnd.databricks.v1+cell": {
          "title": "",
          "showTitle": false,
          "inputWidgets": {},
          "nuid": "a49cf7cd-fdc5-4fb5-853b-46fd816f0e7c"
        },
        "id": "dUqkVCec_2bS"
      },
      "source": [
        "count the number of distinct words"
      ]
    },
    {
      "cell_type": "code",
      "metadata": {
        "application/vnd.databricks.v1+cell": {
          "title": "",
          "showTitle": false,
          "inputWidgets": {},
          "nuid": "e17cd8b4-e4cc-42fb-a0b7-d864a7af4f1a"
        },
        "colab": {
          "base_uri": "https://localhost:8080/"
        },
        "id": "BwOc8G03_2bS",
        "outputId": "ed9b8cd1-f334-466b-f778-7949bf0d3361"
      },
      "source": [
        "nb_distinct_words = wordcount.count()\n",
        "nb_distinct_words"
      ],
      "execution_count": 23,
      "outputs": [
        {
          "output_type": "execute_result",
          "data": {
            "text/plain": [
              "7762"
            ]
          },
          "metadata": {},
          "execution_count": 23
        }
      ]
    },
    {
      "cell_type": "markdown",
      "metadata": {
        "application/vnd.databricks.v1+cell": {
          "title": "",
          "showTitle": false,
          "inputWidgets": {},
          "nuid": "8ab42617-270b-4ba1-8aeb-7b9c384f839d"
        },
        "id": "gEf0uZVD_2bT"
      },
      "source": [
        "compute the proba of each word relatively to the number of distinct words"
      ]
    },
    {
      "cell_type": "code",
      "metadata": {
        "application/vnd.databricks.v1+cell": {
          "title": "",
          "showTitle": false,
          "inputWidgets": {},
          "nuid": "e8dc9c29-f19b-4265-845f-7044e27223be"
        },
        "colab": {
          "base_uri": "https://localhost:8080/"
        },
        "id": "yL1QhrU7_2bU",
        "outputId": "ae95ab90-93dc-4439-cbc5-8e53ebf5cd1b"
      },
      "source": [
        "word_proba = wordcount.map(lambda x: (x[0], x[1] / nb_distinct_words))\n",
        "word_proba.take(n)"
      ],
      "execution_count": 24,
      "outputs": [
        {
          "output_type": "execute_result",
          "data": {
            "text/plain": [
              "[('The', 0.0367173408915228),\n",
              " ('Project', 0.010693120329811904),\n",
              " ('EBook', 0.00038649832517392423),\n",
              " ('of', 0.47577943828910074),\n",
              " ('Pride', 0.0007729966503478485),\n",
              " ('Jane', 0.03388301984024736),\n",
              " ('Austen', 0.000515331100231899),\n",
              " ('is', 0.1106673537748003),\n",
              " ('use', 0.0029631538263334193),\n",
              " ('anyone', 0.0037361504766812675)]"
            ]
          },
          "metadata": {},
          "execution_count": 24
        }
      ]
    },
    {
      "cell_type": "markdown",
      "metadata": {
        "application/vnd.databricks.v1+cell": {
          "title": "",
          "showTitle": false,
          "inputWidgets": {},
          "nuid": "372549f2-0140-44e5-addf-e9326e60c69c"
        },
        "id": "AJ1iMxDs_2bW"
      },
      "source": [
        "Collocation of words: build an RDD of bigrams. A bigram is a pair of words appearing in consecutive order."
      ]
    },
    {
      "cell_type": "code",
      "metadata": {
        "application/vnd.databricks.v1+cell": {
          "title": "",
          "showTitle": false,
          "inputWidgets": {},
          "nuid": "a76e0a1e-51a3-415c-9924-f5742a98f6ad"
        },
        "colab": {
          "base_uri": "https://localhost:8080/"
        },
        "id": "4HsXxn6C_2bX",
        "outputId": "08367c4e-7f4d-4080-f4c5-79d128ca20d3"
      },
      "source": [
        "words_index = words.filter(lambda x: x != '').zipWithIndex().map(lambda x: (x[1], x[0]))\n",
        "words_index.take(n)"
      ],
      "execution_count": 37,
      "outputs": [
        {
          "output_type": "execute_result",
          "data": {
            "text/plain": [
              "[(0, 'The'),\n",
              " (1, 'Project'),\n",
              " (2, 'Gutenberg'),\n",
              " (3, 'EBook'),\n",
              " (4, 'of'),\n",
              " (5, 'Pride'),\n",
              " (6, 'and'),\n",
              " (7, 'Prejudice'),\n",
              " (8, 'by'),\n",
              " (9, 'Jane')]"
            ]
          },
          "metadata": {},
          "execution_count": 37
        }
      ]
    },
    {
      "cell_type": "code",
      "metadata": {
        "application/vnd.databricks.v1+cell": {
          "title": "",
          "showTitle": false,
          "inputWidgets": {},
          "nuid": "ebf1a640-7dfd-4117-be7b-437cebb4d3a1"
        },
        "colab": {
          "base_uri": "https://localhost:8080/"
        },
        "id": "xlqZ5MFR_2bY",
        "outputId": "01563cc6-9d72-4e33-8208-3f64d534a2fc"
      },
      "source": [
        "words_index_other = words_index.map(lambda x: (x[0] - 1, x[1]))\n",
        "words_index_other.take(n)"
      ],
      "execution_count": 38,
      "outputs": [
        {
          "output_type": "execute_result",
          "data": {
            "text/plain": [
              "[(-1, 'The'),\n",
              " (0, 'Project'),\n",
              " (1, 'Gutenberg'),\n",
              " (2, 'EBook'),\n",
              " (3, 'of'),\n",
              " (4, 'Pride'),\n",
              " (5, 'and'),\n",
              " (6, 'Prejudice'),\n",
              " (7, 'by'),\n",
              " (8, 'Jane')]"
            ]
          },
          "metadata": {},
          "execution_count": 38
        }
      ]
    },
    {
      "cell_type": "code",
      "metadata": {
        "application/vnd.databricks.v1+cell": {
          "title": "",
          "showTitle": false,
          "inputWidgets": {},
          "nuid": "19fc037a-5303-46f0-83ec-6a9bbe4436d5"
        },
        "colab": {
          "base_uri": "https://localhost:8080/"
        },
        "id": "5emou1DL_2bZ",
        "outputId": "d1da5e58-d795-4eba-a99e-5feaa16a7b0f"
      },
      "source": [
        "bigram = words_index.join(words_index_other).map(lambda x: x[1])\n",
        "bigram.take(n)"
      ],
      "execution_count": 39,
      "outputs": [
        {
          "output_type": "execute_result",
          "data": {
            "text/plain": [
              "[('The', 'Project'),\n",
              " ('of', 'Pride'),\n",
              " ('by', 'Jane'),\n",
              " ('eBook', 'is'),\n",
              " ('use', 'of'),\n",
              " ('at', 'no'),\n",
              " ('with', 'almost'),\n",
              " ('whatsoever', 'You'),\n",
              " ('it', 'give'),\n",
              " ('or', 're-use')]"
            ]
          },
          "metadata": {},
          "execution_count": 39
        }
      ]
    },
    {
      "cell_type": "markdown",
      "metadata": {
        "application/vnd.databricks.v1+cell": {
          "title": "",
          "showTitle": false,
          "inputWidgets": {},
          "nuid": "5813908e-4121-415f-8717-6eeea35cb5f1"
        },
        "id": "t9GWKQDp_2ba"
      },
      "source": [
        "count the fequency of each bigram"
      ]
    },
    {
      "cell_type": "code",
      "metadata": {
        "application/vnd.databricks.v1+cell": {
          "title": "",
          "showTitle": false,
          "inputWidgets": {},
          "nuid": "7010d5c7-74cf-4d13-8ae0-4663557c8099"
        },
        "colab": {
          "base_uri": "https://localhost:8080/"
        },
        "id": "SM0XGm_F_2ba",
        "outputId": "2c93eb3d-a58b-4256-f53c-d40a1074d318"
      },
      "source": [
        "bigramcount = bigram.map(lambda x: (x, 1)).reduceByKey(add)\n",
        "bigramcount.take(n)"
      ],
      "execution_count": 40,
      "outputs": [
        {
          "output_type": "execute_result",
          "data": {
            "text/plain": [
              "[(('use', 'of'), 8),\n",
              " (('at', 'no'), 6),\n",
              " (('the', 'terms'), 14),\n",
              " (('12', '2019'), 1),\n",
              " (('PREJUDICE', 'Produced'), 1),\n",
              " (('Volunteers', 'and'), 3),\n",
              " (('and', 'Prejudice'), 4),\n",
              " (('Chapter', '4'), 2),\n",
              " (('Chapter', '10'), 2),\n",
              " (('Chapter', '12'), 2)]"
            ]
          },
          "metadata": {},
          "execution_count": 40
        }
      ]
    },
    {
      "cell_type": "markdown",
      "metadata": {
        "application/vnd.databricks.v1+cell": {
          "title": "",
          "showTitle": false,
          "inputWidgets": {},
          "nuid": "44502dd0-70d8-4467-b180-daa7790c6bc7"
        },
        "id": "_-vGmlff_2bb"
      },
      "source": [
        "attach to each bigram the probability of its words, i.e. $$P(a) * P(b)$$"
      ]
    },
    {
      "cell_type": "code",
      "metadata": {
        "application/vnd.databricks.v1+cell": {
          "title": "",
          "showTitle": false,
          "inputWidgets": {},
          "nuid": "43c9c3b8-bf4f-47b3-a333-5682f29c4612"
        },
        "colab": {
          "base_uri": "https://localhost:8080/"
        },
        "id": "vn_zMw8g_2bb",
        "outputId": "524d3da3-4def-42e9-a31a-5e8cca0ccc86"
      },
      "source": [
        "bigramproba = bigramcount.map(lambda x: x[0]) \\\n",
        "                         .join(word_proba) \\\n",
        "                         .map(lambda x: (x[1][0], (x[0], x[1][1]))) \\\n",
        "                         .join(word_proba) \\\n",
        "                         .map(lambda x: ((x[1][0][0], x[0]), x[1][0][1] * x[1][1]))\n",
        "bigramproba.take(n)"
      ],
      "execution_count": 55,
      "outputs": [
        {
          "output_type": "execute_result",
          "data": {
            "text/plain": [
              "[(('of', 'Pride'), 0.0003677759121018558),\n",
              " (('Title', 'Pride'), 9.958730357483232e-08),\n",
              " (('vain', 'Pride'), 1.7925714643469818e-06),\n",
              " (('mine', 'Pride'), 1.4938095536224848e-06),\n",
              " (('cover', 'Pride'), 1.9917460714966465e-07),\n",
              " (('of', 'them'), 0.026602457642034234),\n",
              " (('like', 'them'), 0.0005474646035187116),\n",
              " (('seen', 'them'), 0.0005402611218934654),\n",
              " (('before', 'them'), 0.00161357988405515),\n",
              " (('make', 'them'), 0.0012101849130413626)]"
            ]
          },
          "metadata": {},
          "execution_count": 55
        }
      ]
    },
    {
      "cell_type": "markdown",
      "metadata": {
        "application/vnd.databricks.v1+cell": {
          "title": "",
          "showTitle": false,
          "inputWidgets": {},
          "nuid": "d64a92a3-f3e2-4ca8-beb7-28b2dfbf0807"
        },
        "id": "kz68ZQ7l_2bc"
      },
      "source": [
        "count the number of distinct bigrams"
      ]
    },
    {
      "cell_type": "code",
      "metadata": {
        "application/vnd.databricks.v1+cell": {
          "title": "",
          "showTitle": false,
          "inputWidgets": {},
          "nuid": "90bc5fe5-37f6-44cf-8a76-8e9f168784d6"
        },
        "colab": {
          "base_uri": "https://localhost:8080/"
        },
        "id": "Qi_pDd5o_2bc",
        "outputId": "8cb8a6bc-2929-41c5-d9f6-8554be68577c"
      },
      "source": [
        "bigram_distinct = bigramcount.count()\n",
        "bigram_distinct"
      ],
      "execution_count": 45,
      "outputs": [
        {
          "output_type": "execute_result",
          "data": {
            "text/plain": [
              "59099"
            ]
          },
          "metadata": {},
          "execution_count": 45
        }
      ]
    },
    {
      "cell_type": "markdown",
      "metadata": {
        "application/vnd.databricks.v1+cell": {
          "title": "",
          "showTitle": false,
          "inputWidgets": {},
          "nuid": "e5b897b0-2120-43ea-a069-ad39143b8a35"
        },
        "id": "JQYxiQg9_2bd"
      },
      "source": [
        "attach to each bigram its probability, i.e. $$P(ab)$$"
      ]
    },
    {
      "cell_type": "code",
      "metadata": {
        "application/vnd.databricks.v1+cell": {
          "title": "",
          "showTitle": false,
          "inputWidgets": {},
          "nuid": "01e63b07-3181-41a4-8f62-b60909a3347b"
        },
        "colab": {
          "base_uri": "https://localhost:8080/"
        },
        "id": "trnmGMBa_2be",
        "outputId": "5a998dae-5460-4718-96fb-7977a46c223f"
      },
      "source": [
        "bigramjointproba = bigramcount.map(lambda x: (x[0], x[1] / bigram_distinct))\n",
        "bigramjointproba.take(n)"
      ],
      "execution_count": 46,
      "outputs": [
        {
          "output_type": "execute_result",
          "data": {
            "text/plain": [
              "[(('use', 'of'), 0.00013536608064434254),\n",
              " (('at', 'no'), 0.0001015245604832569),\n",
              " (('the', 'terms'), 0.00023689064112759946),\n",
              " (('12', '2019'), 1.6920760080542818e-05),\n",
              " (('PREJUDICE', 'Produced'), 1.6920760080542818e-05),\n",
              " (('Volunteers', 'and'), 5.076228024162845e-05),\n",
              " (('and', 'Prejudice'), 6.768304032217127e-05),\n",
              " (('Chapter', '4'), 3.3841520161085635e-05),\n",
              " (('Chapter', '10'), 3.3841520161085635e-05),\n",
              " (('Chapter', '12'), 3.3841520161085635e-05)]"
            ]
          },
          "metadata": {},
          "execution_count": 46
        }
      ]
    },
    {
      "cell_type": "markdown",
      "metadata": {
        "application/vnd.databricks.v1+cell": {
          "title": "",
          "showTitle": false,
          "inputWidgets": {},
          "nuid": "882d1325-07a3-41dd-851b-a2f7a6d7cf7a"
        },
        "id": "6W7oVeWB_2be"
      },
      "source": [
        "compute the SPMI and sort in descending order on the score"
      ]
    },
    {
      "cell_type": "code",
      "metadata": {
        "application/vnd.databricks.v1+cell": {
          "title": "",
          "showTitle": false,
          "inputWidgets": {},
          "nuid": "753f2e1a-bf18-4fe9-b5db-ba7ecf81ca55"
        },
        "colab": {
          "base_uri": "https://localhost:8080/"
        },
        "id": "b9l4t2Vk_2bf",
        "outputId": "923038a8-87ff-4d4a-c207-27bd1b982c26"
      },
      "source": [
        "SPMI = bigramjointproba.join(bigramproba).map(lambda x: (x[0], x[1][0] / x[1][1])).sortBy(lambda x: x[1], False)\n",
        "SPMI.take(n)"
      ],
      "execution_count": 58,
      "outputs": [
        {
          "output_type": "execute_result",
          "data": {
            "text/plain": [
              "[(('staff', 'Please'), 1019.4528503020354),\n",
              " (('he—poor', 'Eliza—to'), 1019.4528503020354),\n",
              " (('net', 'purses'), 1019.4528503020354),\n",
              " (('Italian', 'songs'), 1019.4528503020354),\n",
              " (('barbarously', 'misused'), 1019.4528503020354),\n",
              " (('weighty', 'accusation'), 1019.4528503020354),\n",
              " (('vicious', 'propensities—the'), 1019.4528503020354),\n",
              " (('untamed', 'unabashed'), 1019.4528503020354),\n",
              " (('City', 'UT'), 1019.4528503020354),\n",
              " (('Kenilworth', 'Birmingham'), 1019.4528503020354)]"
            ]
          },
          "metadata": {},
          "execution_count": 58
        }
      ]
    },
    {
      "cell_type": "markdown",
      "metadata": {
        "application/vnd.databricks.v1+cell": {
          "title": "",
          "showTitle": false,
          "inputWidgets": {},
          "nuid": "fa3a4987-1765-4cd7-9d6c-790af051f93e"
        },
        "id": "CyhUU7bd_2bh"
      },
      "source": [
        "## Matrix multiplication"
      ]
    },
    {
      "cell_type": "markdown",
      "metadata": {
        "application/vnd.databricks.v1+cell": {
          "title": "",
          "showTitle": false,
          "inputWidgets": {},
          "nuid": "aeaced1f-7898-4c11-a5fe-c72674141aa4"
        },
        "id": "75wifCJz_2bh"
      },
      "source": [
        "Write a program to perform matrix multiplication using the Spark RDD operators.\n",
        "The input matrices are represented with their coordinates: each matrix is an RDD of tuples `(i,j,val)` where `i` is the line number, `j` the column number and `val` the value.\n",
        "The input matrices are provided (`matM` and `matN`).\n",
        "The output matrix is also represented with its coordinates:"
      ]
    },
    {
      "cell_type": "code",
      "metadata": {
        "application/vnd.databricks.v1+cell": {
          "title": "",
          "showTitle": false,
          "inputWidgets": {},
          "nuid": "2197e35f-8bc5-4a6b-93e7-8549d7333752"
        },
        "id": "fVTx5zcK_2bh"
      },
      "source": [
        "M = [(1,1,1),(1,2,2),(1,3,3),(2,1,2),(2,2,5),(2,3,7)]\n",
        "N = [(1,1,2),(1,2,4),(1,3,8),(2,1,1),(2,2,5),(2,3,10),(3,1,3),(3,2,6),(3,3,9)]\n",
        "\n",
        "matM = spark.sparkContext.parallelize(M)\n",
        "matN = spark.sparkContext.parallelize(N)"
      ],
      "execution_count": 60,
      "outputs": []
    },
    {
      "cell_type": "code",
      "metadata": {
        "application/vnd.databricks.v1+cell": {
          "title": "",
          "showTitle": false,
          "inputWidgets": {},
          "nuid": "116f9199-3b46-4045-8bae-135ab5dde7d2"
        },
        "colab": {
          "base_uri": "https://localhost:8080/"
        },
        "id": "-rHdeIyO_2bh",
        "outputId": "6f4dafa5-8600-4c75-8809-8e74fbb60015"
      },
      "source": [
        "matMElem = matM.map(lambda x: (x[1], (x[0], x[2])))\n",
        "matNElem = matN.map(lambda x: (x[0], (x[1], x[2])))\n",
        "pairwiseProd = matMElem.join(matNElem).map(lambda x: ((x[1][0][0], x[1][1][0]), x[1][0][1] * x[1][1][1]))\n",
        "product = pairwiseProd.reduceByKey(lambda a,b:a+b)\n",
        "product.collect()"
      ],
      "execution_count": 67,
      "outputs": [
        {
          "output_type": "execute_result",
          "data": {
            "text/plain": [
              "[((1, 1), 13),\n",
              " ((1, 2), 32),\n",
              " ((2, 3), 129),\n",
              " ((1, 3), 55),\n",
              " ((2, 2), 75),\n",
              " ((2, 1), 30)]"
            ]
          },
          "metadata": {},
          "execution_count": 67
        }
      ]
    },
    {
      "cell_type": "markdown",
      "metadata": {
        "application/vnd.databricks.v1+cell": {
          "title": "",
          "showTitle": false,
          "inputWidgets": {},
          "nuid": "9931a596-3ea9-4d1f-b408-b3558647f934"
        },
        "id": "R5ZJa3iU_2bh"
      },
      "source": [
        "##END"
      ]
    }
  ]
}