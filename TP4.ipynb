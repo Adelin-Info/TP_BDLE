{
  "nbformat": 4,
  "nbformat_minor": 0,
  "metadata": {
    "colab": {
      "provenance": [],
      "toc_visible": true
    },
    "kernelspec": {
      "name": "python3",
      "display_name": "Python 3"
    },
    "language_info": {
      "name": "python"
    }
  },
  "cells": [
    {
      "cell_type": "markdown",
      "source": [
        "* Master DAC - BDLE\n",
        "* Author: Mohamed-Amine Baazizi\n",
        "* Affiliation: LIP6 - Faculté des Sciences - Sorbonne Université\n",
        "* Email: mohamed-amine.baazizi@lip6.fr\n",
        "* October 2024\n"
      ],
      "metadata": {
        "id": "GwjrdGLoXzly"
      }
    },
    {
      "cell_type": "markdown",
      "source": [
        "# Delta Lake\n"
      ],
      "metadata": {
        "id": "GunJfIR6YM_h"
      }
    },
    {
      "cell_type": "markdown",
      "source": [
        "## Outline"
      ],
      "metadata": {
        "id": "-kfCqy7EtbGd"
      }
    },
    {
      "cell_type": "markdown",
      "source": [
        "This lab is dedicated to practicing Delta Lake. It begins with a set of demos meant to illustrate the usage of Delta, on small examples.\n",
        "A use case based on realistic data is then presented and followed by the analysis of query plans generated for Delta operations.\n",
        "\n",
        "\n",
        "For the official documentation visit https://docs.delta.io/latest/index.html\n",
        "\n",
        "\n",
        "- For Demo1, Demo2 and Demo3 the answers are provided: run and observe\n",
        "- In the Use case section answers are not provided and left as exercice\n",
        "- In the CDF section, a scenario is provided. The task is to suggest similar updates and observe the impact on the log trail\n",
        "\n",
        "\n",
        "\n"
      ],
      "metadata": {
        "id": "GpI9l0JZYRdh"
      }
    },
    {
      "cell_type": "markdown",
      "source": [
        "## Prerequisite"
      ],
      "metadata": {
        "id": "csSU_SanYPJQ"
      }
    },
    {
      "cell_type": "markdown",
      "source": [
        "### System setup"
      ],
      "metadata": {
        "id": "BYxx4XY_TN0H"
      }
    },
    {
      "cell_type": "code",
      "source": [
        "appName = \"Delta Lake \""
      ],
      "metadata": {
        "id": "j4gPh_6COwRn"
      },
      "execution_count": null,
      "outputs": []
    },
    {
      "cell_type": "code",
      "execution_count": null,
      "metadata": {
        "id": "mW_DrY7ZlUj_"
      },
      "outputs": [],
      "source": [
        "%%capture\n",
        "!pip install -q pyspark\n",
        "!pip install -q delta-spark\n",
        "!pip install pyngrok"
      ]
    },
    {
      "cell_type": "code",
      "source": [
        "!pip list|grep spark"
      ],
      "metadata": {
        "colab": {
          "base_uri": "https://localhost:8080/"
        },
        "id": "o1YXYF4nWHNE",
        "outputId": "2c6148f3-5cc3-404e-ed26-1a7d4c1210bd"
      },
      "execution_count": null,
      "outputs": [
        {
          "output_type": "stream",
          "name": "stdout",
          "text": [
            "delta-spark                        3.2.1\n",
            "pyspark                            3.5.3\n"
          ]
        }
      ]
    },
    {
      "cell_type": "code",
      "source": [
        "from pyspark import SparkConf\n",
        "from pyspark.context import SparkContext\n",
        "from pyspark.sql import SparkSession\n",
        "\n",
        "local = \"local[*]\"\n",
        "\n",
        "localConfig = SparkConf().setAppName(appName).setMaster(local).\\\n",
        "  set(\"spark.executor.memory\", \"8G\").\\\n",
        "  set(\"spark.driver.memory\",\"8G\").\\\n",
        "  set(\"spark.sql.catalogImplementation\",\"in-memory\").\\\n",
        "  set(\"spark.sql.extensions\",\"io.delta.sql.DeltaSparkSessionExtension\").\\\n",
        "  set(\"spark.sql.catalog.spark_catalog\",\"org.apache.spark.sql.delta.catalog.DeltaCatalog\").\\\n",
        "  set(\"spark.jars.packages\",\"io.delta:delta-spark_2.12:3.1.0\").\\\n",
        "  set(\"spark.databricks.delta.schema.autoMerge.enabled\",\"true\")\n",
        "\n",
        "\n",
        "spark = SparkSession.builder.config(conf = localConfig).getOrCreate()\n",
        "sc = spark.sparkContext\n",
        "sc.setLogLevel(\"ERROR\")"
      ],
      "metadata": {
        "id": "ZGcYc-DKqpUi"
      },
      "execution_count": null,
      "outputs": []
    },
    {
      "cell_type": "code",
      "source": [
        "spark"
      ],
      "metadata": {
        "colab": {
          "base_uri": "https://localhost:8080/",
          "height": 221
        },
        "id": "tvPytoK4Xl3t",
        "outputId": "5c1b4102-1011-4b6b-e836-345ca928cad4"
      },
      "execution_count": null,
      "outputs": [
        {
          "output_type": "execute_result",
          "data": {
            "text/plain": [
              "<pyspark.sql.session.SparkSession at 0x7e361eaac520>"
            ],
            "text/html": [
              "\n",
              "            <div>\n",
              "                <p><b>SparkSession - in-memory</b></p>\n",
              "                \n",
              "        <div>\n",
              "            <p><b>SparkContext</b></p>\n",
              "\n",
              "            <p><a href=\"http://291813ef1932:4040\">Spark UI</a></p>\n",
              "\n",
              "            <dl>\n",
              "              <dt>Version</dt>\n",
              "                <dd><code>v3.5.3</code></dd>\n",
              "              <dt>Master</dt>\n",
              "                <dd><code>local[*]</code></dd>\n",
              "              <dt>AppName</dt>\n",
              "                <dd><code>Delta Lake </code></dd>\n",
              "            </dl>\n",
              "        </div>\n",
              "        \n",
              "            </div>\n",
              "        "
            ]
          },
          "metadata": {},
          "execution_count": 5
        }
      ]
    },
    {
      "cell_type": "markdown",
      "source": [
        "### Data import"
      ],
      "metadata": {
        "id": "uEE-92qgTQ4p"
      }
    },
    {
      "cell_type": "code",
      "source": [
        "%%capture\n",
        "! wget https://nuage.lip6.fr/s/BbQ9rzGHKJexKYp/download/sales.tar -O /tmp/sales.tar\n",
        "!mkdir /tmp/delta\n",
        "! tar xvf /tmp/sales.tar -C /tmp/delta\n"
      ],
      "metadata": {
        "id": "95fudS-iTbB5"
      },
      "execution_count": null,
      "outputs": []
    },
    {
      "cell_type": "code",
      "source": [
        "!ls /tmp/delta/sales"
      ],
      "metadata": {
        "colab": {
          "base_uri": "https://localhost:8080/"
        },
        "id": "o7YspSlaTdTh",
        "outputId": "7a56f7a6-d501-41cc-e352-be0a4d42eff6"
      },
      "execution_count": null,
      "outputs": [
        {
          "output_type": "stream",
          "name": "stdout",
          "text": [
            "march23_sales.csv  salesOriginal.csv\n"
          ]
        }
      ]
    },
    {
      "cell_type": "markdown",
      "source": [
        "## Demo1: first steps"
      ],
      "metadata": {
        "id": "PPmP7vcOr6XX"
      }
    },
    {
      "cell_type": "markdown",
      "source": [
        "### load the data into delta"
      ],
      "metadata": {
        "id": "6sBb4C8GteZR"
      }
    },
    {
      "cell_type": "code",
      "source": [
        "query = \"\"\"\n",
        "CREATE TABLE delta.`/tmp/delta-table` USING DELTA AS SELECT col1 as id FROM VALUES 0,1,2,3,4;\n",
        "\"\"\"\n",
        "spark.sql(query)\n"
      ],
      "metadata": {
        "colab": {
          "base_uri": "https://localhost:8080/"
        },
        "id": "4pqEJ8Q5Y4SX",
        "outputId": "d0349022-6bbd-480b-dd35-294a17ea4b62"
      },
      "execution_count": null,
      "outputs": [
        {
          "output_type": "execute_result",
          "data": {
            "text/plain": [
              "DataFrame[]"
            ]
          },
          "metadata": {},
          "execution_count": 8
        }
      ]
    },
    {
      "cell_type": "code",
      "source": [
        "query = \"\"\"\n",
        "SELECT * FROM delta.`/tmp/delta-table`;\n",
        "\"\"\"\n",
        "spark.sql(query).show()"
      ],
      "metadata": {
        "colab": {
          "base_uri": "https://localhost:8080/"
        },
        "id": "0biz8Q2kZGh5",
        "outputId": "4c4f24db-6056-4608-b0a0-6e96cf37c38d"
      },
      "execution_count": null,
      "outputs": [
        {
          "output_type": "stream",
          "name": "stdout",
          "text": [
            "+---+\n",
            "| id|\n",
            "+---+\n",
            "|  2|\n",
            "|  3|\n",
            "|  4|\n",
            "|  0|\n",
            "|  1|\n",
            "+---+\n",
            "\n"
          ]
        }
      ]
    },
    {
      "cell_type": "markdown",
      "source": [
        "### update the data\n",
        "#### overwrite"
      ],
      "metadata": {
        "id": "7gC5yWqIti5z"
      }
    },
    {
      "cell_type": "code",
      "source": [
        "query = \"\"\"\n",
        "INSERT OVERWRITE delta.`/tmp/delta-table` SELECT col1 as id FROM VALUES 5,6,7,8,9;\n",
        "\"\"\"\n",
        "spark.sql(query).show()\n"
      ],
      "metadata": {
        "colab": {
          "base_uri": "https://localhost:8080/"
        },
        "id": "54vtYTfOZWMg",
        "outputId": "01ad7d3a-4139-493c-d265-01e0c8bc662b"
      },
      "execution_count": null,
      "outputs": [
        {
          "output_type": "stream",
          "name": "stdout",
          "text": [
            "++\n",
            "||\n",
            "++\n",
            "++\n",
            "\n"
          ]
        }
      ]
    },
    {
      "cell_type": "code",
      "source": [
        "query = \"\"\"\n",
        "SELECT * FROM delta.`/tmp/delta-table`;\n",
        "\"\"\"\n",
        "spark.sql(query).show()"
      ],
      "metadata": {
        "colab": {
          "base_uri": "https://localhost:8080/"
        },
        "id": "d4UkNiH4ZanE",
        "outputId": "3fd46e68-a008-4105-b0ff-26b84f01a81b"
      },
      "execution_count": null,
      "outputs": [
        {
          "output_type": "stream",
          "name": "stdout",
          "text": [
            "+---+\n",
            "| id|\n",
            "+---+\n",
            "|  7|\n",
            "|  8|\n",
            "|  9|\n",
            "|  5|\n",
            "|  6|\n",
            "+---+\n",
            "\n"
          ]
        }
      ]
    },
    {
      "cell_type": "markdown",
      "source": [
        "#### conditional overwrite"
      ],
      "metadata": {
        "id": "n51K-OE-zEbi"
      }
    },
    {
      "cell_type": "code",
      "source": [
        "query = \"\"\"\n",
        "UPDATE delta.`/tmp/delta-table` SET id = id + 100 WHERE id % 2 == 0;\n",
        "\"\"\"\n",
        "spark.sql(query).show()\n"
      ],
      "metadata": {
        "colab": {
          "base_uri": "https://localhost:8080/"
        },
        "id": "PgZYQlzKZmC-",
        "outputId": "60e079ed-09e5-46fb-f790-96bdb36c5d74"
      },
      "execution_count": null,
      "outputs": [
        {
          "output_type": "stream",
          "name": "stdout",
          "text": [
            "+-----------------+\n",
            "|num_affected_rows|\n",
            "+-----------------+\n",
            "|                2|\n",
            "+-----------------+\n",
            "\n"
          ]
        }
      ]
    },
    {
      "cell_type": "code",
      "source": [
        "query = \"\"\"\n",
        "SELECT * FROM delta.`/tmp/delta-table`;\n",
        "\"\"\"\n",
        "spark.sql(query).show()"
      ],
      "metadata": {
        "colab": {
          "base_uri": "https://localhost:8080/"
        },
        "id": "ZGyGJUbTZ5Tk",
        "outputId": "7cda547f-661f-49f2-ffc6-ab001b6969cb"
      },
      "execution_count": null,
      "outputs": [
        {
          "output_type": "stream",
          "name": "stdout",
          "text": [
            "+---+\n",
            "| id|\n",
            "+---+\n",
            "|  7|\n",
            "|108|\n",
            "|  9|\n",
            "|  5|\n",
            "|106|\n",
            "+---+\n",
            "\n"
          ]
        }
      ]
    },
    {
      "cell_type": "code",
      "source": [
        "query = \"\"\"\n",
        "DELETE FROM delta.`/tmp/delta-table` WHERE id % 2 == 0;\n",
        "\"\"\"\n",
        "spark.sql(query).show()"
      ],
      "metadata": {
        "colab": {
          "base_uri": "https://localhost:8080/"
        },
        "id": "WEOePP5UaIhx",
        "outputId": "0081255f-2617-4421-de3a-88952d824536"
      },
      "execution_count": null,
      "outputs": [
        {
          "output_type": "stream",
          "name": "stdout",
          "text": [
            "+-----------------+\n",
            "|num_affected_rows|\n",
            "+-----------------+\n",
            "|                2|\n",
            "+-----------------+\n",
            "\n"
          ]
        }
      ]
    },
    {
      "cell_type": "code",
      "source": [
        "query = \"\"\"\n",
        "SELECT * FROM delta.`/tmp/delta-table`;\n",
        "\"\"\"\n",
        "spark.sql(query).show()"
      ],
      "metadata": {
        "colab": {
          "base_uri": "https://localhost:8080/"
        },
        "id": "Tycomqu-aIfb",
        "outputId": "5df80e42-26ae-424d-a4f1-08dc43b2d07c"
      },
      "execution_count": null,
      "outputs": [
        {
          "output_type": "stream",
          "name": "stdout",
          "text": [
            "+---+\n",
            "| id|\n",
            "+---+\n",
            "|  7|\n",
            "|  9|\n",
            "|  5|\n",
            "+---+\n",
            "\n"
          ]
        }
      ]
    },
    {
      "cell_type": "code",
      "source": [
        "query = \"\"\"\n",
        "CREATE TEMP VIEW newData AS SELECT col1 AS id FROM VALUES 1,3,5,7,9,11,13,15,17,19;\n",
        "\"\"\"\n",
        "spark.sql(query).show()"
      ],
      "metadata": {
        "colab": {
          "base_uri": "https://localhost:8080/"
        },
        "id": "vwV6XupUaPIL",
        "outputId": "bb1900be-c120-4f59-84f8-24788b1e23cf"
      },
      "execution_count": null,
      "outputs": [
        {
          "output_type": "stream",
          "name": "stdout",
          "text": [
            "++\n",
            "||\n",
            "++\n",
            "++\n",
            "\n"
          ]
        }
      ]
    },
    {
      "cell_type": "code",
      "source": [
        "query = \"\"\"\n",
        "SELECT * FROM `newData`;\n",
        "\"\"\"\n",
        "spark.sql(query).show()"
      ],
      "metadata": {
        "colab": {
          "base_uri": "https://localhost:8080/"
        },
        "id": "M96V_5IBaZhE",
        "outputId": "52955c32-9e62-40b7-8aff-4a27e83b3d23"
      },
      "execution_count": null,
      "outputs": [
        {
          "output_type": "stream",
          "name": "stdout",
          "text": [
            "+---+\n",
            "| id|\n",
            "+---+\n",
            "|  1|\n",
            "|  3|\n",
            "|  5|\n",
            "|  7|\n",
            "|  9|\n",
            "| 11|\n",
            "| 13|\n",
            "| 15|\n",
            "| 17|\n",
            "| 19|\n",
            "+---+\n",
            "\n"
          ]
        }
      ]
    },
    {
      "cell_type": "code",
      "source": [
        "query = \"\"\"\n",
        "MERGE INTO delta.`/tmp/delta-table` AS oldData\n",
        "USING newData\n",
        "ON oldData.id = newData.id\n",
        "WHEN MATCHED\n",
        "  THEN UPDATE SET id = newData.id\n",
        "WHEN NOT MATCHED\n",
        "  THEN INSERT (id) VALUES (newData.id);\n",
        "\"\"\"\n",
        "spark.sql(query).show()"
      ],
      "metadata": {
        "colab": {
          "base_uri": "https://localhost:8080/"
        },
        "id": "3bPAmhZlaWez",
        "outputId": "ac644446-911a-49d2-f697-e18ad13962d3"
      },
      "execution_count": null,
      "outputs": [
        {
          "output_type": "stream",
          "name": "stdout",
          "text": [
            "+-----------------+----------------+----------------+-----------------+\n",
            "|num_affected_rows|num_updated_rows|num_deleted_rows|num_inserted_rows|\n",
            "+-----------------+----------------+----------------+-----------------+\n",
            "|               10|               3|               0|                7|\n",
            "+-----------------+----------------+----------------+-----------------+\n",
            "\n"
          ]
        }
      ]
    },
    {
      "cell_type": "code",
      "source": [
        "query = \"\"\"\n",
        "SELECT * FROM delta.`/tmp/delta-table`;\n",
        "\"\"\"\n",
        "spark.sql(query).show()"
      ],
      "metadata": {
        "colab": {
          "base_uri": "https://localhost:8080/"
        },
        "id": "EVIy7AOmaPA5",
        "outputId": "d5abc23d-bbb4-4b59-b246-9eaae0fda5c2"
      },
      "execution_count": null,
      "outputs": [
        {
          "output_type": "stream",
          "name": "stdout",
          "text": [
            "+---+\n",
            "| id|\n",
            "+---+\n",
            "|  1|\n",
            "|  3|\n",
            "|  5|\n",
            "|  7|\n",
            "|  9|\n",
            "| 11|\n",
            "| 13|\n",
            "| 15|\n",
            "| 17|\n",
            "| 19|\n",
            "+---+\n",
            "\n"
          ]
        }
      ]
    },
    {
      "cell_type": "markdown",
      "source": [
        "### viewing history"
      ],
      "metadata": {
        "id": "LFk6LjuF6YLI"
      }
    },
    {
      "cell_type": "code",
      "source": [
        "query = \"\"\"\n",
        "DESCRIBE HISTORY delta.`/tmp/delta-table`\n",
        "\"\"\"\n",
        "spark.sql(query).show()"
      ],
      "metadata": {
        "colab": {
          "base_uri": "https://localhost:8080/"
        },
        "id": "yWt5s4DlEN-s",
        "outputId": "91416750-28c2-4c2f-9d1b-9b91946b7660"
      },
      "execution_count": null,
      "outputs": [
        {
          "output_type": "stream",
          "name": "stdout",
          "text": [
            "+-------+--------------------+------+--------+--------------------+--------------------+----+--------+---------+-----------+--------------+-------------+--------------------+------------+--------------------+\n",
            "|version|           timestamp|userId|userName|           operation| operationParameters| job|notebook|clusterId|readVersion|isolationLevel|isBlindAppend|    operationMetrics|userMetadata|          engineInfo|\n",
            "+-------+--------------------+------+--------+--------------------+--------------------+----+--------+---------+-----------+--------------+-------------+--------------------+------------+--------------------+\n",
            "|      4|2024-10-16 16:41:...|  NULL|    NULL|               MERGE|{predicate -> [\"(...|NULL|    NULL|     NULL|          3|  Serializable|        false|{numTargetRowsCop...|        NULL|Apache-Spark/3.5....|\n",
            "|      3|2024-10-16 16:38:...|  NULL|    NULL|              DELETE|{predicate -> [\"(...|NULL|    NULL|     NULL|          2|  Serializable|        false|{numRemovedFiles ...|        NULL|Apache-Spark/3.5....|\n",
            "|      2|2024-10-16 16:37:...|  NULL|    NULL|              UPDATE|{predicate -> [\"(...|NULL|    NULL|     NULL|          1|  Serializable|        false|{numRemovedFiles ...|        NULL|Apache-Spark/3.5....|\n",
            "|      1|2024-10-16 16:36:...|  NULL|    NULL|               WRITE|{mode -> Overwrit...|NULL|    NULL|     NULL|          0|  Serializable|        false|{numFiles -> 2, n...|        NULL|Apache-Spark/3.5....|\n",
            "|      0|2024-10-16 16:29:...|  NULL|    NULL|CREATE TABLE AS S...|{isManaged -> fal...|NULL|    NULL|     NULL|       NULL|  Serializable|         true|{numFiles -> 2, n...|        NULL|Apache-Spark/3.5....|\n",
            "+-------+--------------------+------+--------+--------------------+--------------------+----+--------+---------+-----------+--------------+-------------+--------------------+------------+--------------------+\n",
            "\n"
          ]
        }
      ]
    },
    {
      "cell_type": "code",
      "source": [
        "query = \"\"\"\n",
        "SELECT * FROM delta.`/tmp/delta-table` VERSION AS OF 0;\n",
        "\"\"\"\n",
        "spark.sql(query).show()"
      ],
      "metadata": {
        "colab": {
          "base_uri": "https://localhost:8080/"
        },
        "id": "4M23w7FrbuRj",
        "outputId": "f620f1a9-e5c9-4223-d348-75e03eee4978"
      },
      "execution_count": null,
      "outputs": [
        {
          "output_type": "stream",
          "name": "stdout",
          "text": [
            "+---+\n",
            "| id|\n",
            "+---+\n",
            "|  2|\n",
            "|  3|\n",
            "|  4|\n",
            "|  0|\n",
            "|  1|\n",
            "+---+\n",
            "\n"
          ]
        }
      ]
    },
    {
      "cell_type": "code",
      "source": [
        "query = \"\"\"\n",
        "SELECT * FROM delta.`/tmp/delta-table` VERSION AS OF 1;\n",
        "\"\"\"\n",
        "spark.sql(query).show()"
      ],
      "metadata": {
        "colab": {
          "base_uri": "https://localhost:8080/"
        },
        "id": "BxTIpNxYbzDV",
        "outputId": "b21ae115-99b7-4e27-dd63-23ed9d2a9ab3"
      },
      "execution_count": null,
      "outputs": [
        {
          "output_type": "stream",
          "name": "stdout",
          "text": [
            "+---+\n",
            "| id|\n",
            "+---+\n",
            "|  7|\n",
            "|  8|\n",
            "|  9|\n",
            "|  5|\n",
            "|  6|\n",
            "+---+\n",
            "\n"
          ]
        }
      ]
    },
    {
      "cell_type": "markdown",
      "source": [
        "## Creating synthetic data\n"
      ],
      "metadata": {
        "id": "8h6Zc1bPoAUB"
      }
    },
    {
      "cell_type": "markdown",
      "source": [
        "### Persons"
      ],
      "metadata": {
        "id": "IQBLb81vr2_o"
      }
    },
    {
      "cell_type": "code",
      "source": [
        "query = \"\"\"\n",
        "CREATE TABLE delta.`/tmp/persons` USING DELTA AS\n",
        "SELECT col1 as serial, col2 as name, col3 as age, col4 as address\n",
        "FROM VALUES (\"12345\", \"Alice\", 25, \"123 Main St\"),\n",
        "            (\"67890\", \"Bob\", 30, \"456 Oak Ave\"),\n",
        "            (\"24680\", \"Charlie\", 35, \"789 Elm St\");\n",
        "\"\"\"\n",
        "spark.sql(query)\n"
      ],
      "metadata": {
        "colab": {
          "base_uri": "https://localhost:8080/"
        },
        "id": "Mz04HT1LqHms",
        "outputId": "a77f1215-3030-4b1c-f2cc-1f425cde72a3"
      },
      "execution_count": null,
      "outputs": [
        {
          "output_type": "execute_result",
          "data": {
            "text/plain": [
              "DataFrame[]"
            ]
          },
          "metadata": {},
          "execution_count": 23
        }
      ]
    },
    {
      "cell_type": "code",
      "source": [
        "query = \"\"\"\n",
        "SELECT * FROM delta.`/tmp/persons`;\n",
        "\"\"\"\n",
        "spark.sql(query).show()"
      ],
      "metadata": {
        "colab": {
          "base_uri": "https://localhost:8080/"
        },
        "id": "BRS4ng1Exzty",
        "outputId": "4fab517a-375e-4932-8c15-62117dfad320"
      },
      "execution_count": null,
      "outputs": [
        {
          "output_type": "stream",
          "name": "stdout",
          "text": [
            "+------+-------+---+-----------+\n",
            "|serial|   name|age|    address|\n",
            "+------+-------+---+-----------+\n",
            "| 12345|  Alice| 25|123 Main St|\n",
            "| 67890|    Bob| 30|456 Oak Ave|\n",
            "| 24680|Charlie| 35| 789 Elm St|\n",
            "+------+-------+---+-----------+\n",
            "\n"
          ]
        }
      ]
    },
    {
      "cell_type": "code",
      "source": [
        "query = \"\"\"\n",
        "CREATE TEMP VIEW newPersons AS\n",
        "SELECT col1 as serial, col2 as name, col3 as age, col4 as address\n",
        "FROM VALUES (\"78120\", \"Dan\", 42, \"432 Holly Rd\"), (\"97362\", \"Lorry\", 40, \"290 Wise Ave\"), (\"12345\", \"Alice\", 25, \"123 Main St\")\n",
        "\"\"\"\n",
        "spark.sql(query)"
      ],
      "metadata": {
        "colab": {
          "base_uri": "https://localhost:8080/"
        },
        "id": "r7wKrQvYyCT_",
        "outputId": "29ad8436-2019-4280-cd7f-e0a57824be0c"
      },
      "execution_count": null,
      "outputs": [
        {
          "output_type": "execute_result",
          "data": {
            "text/plain": [
              "DataFrame[]"
            ]
          },
          "metadata": {},
          "execution_count": 25
        }
      ]
    },
    {
      "cell_type": "code",
      "source": [
        "query = \"\"\"\n",
        "SELECT * from newPersons\n",
        "\"\"\"\n",
        "spark.sql(query).show()"
      ],
      "metadata": {
        "colab": {
          "base_uri": "https://localhost:8080/"
        },
        "id": "GjBg5aKyqjjk",
        "outputId": "742d465d-7aeb-4035-ddfd-2413ce2d9bbc"
      },
      "execution_count": null,
      "outputs": [
        {
          "output_type": "stream",
          "name": "stdout",
          "text": [
            "+------+-----+---+------------+\n",
            "|serial| name|age|     address|\n",
            "+------+-----+---+------------+\n",
            "| 78120|  Dan| 42|432 Holly Rd|\n",
            "| 97362|Lorry| 40|290 Wise Ave|\n",
            "| 12345|Alice| 25| 123 Main St|\n",
            "+------+-----+---+------------+\n",
            "\n"
          ]
        }
      ]
    },
    {
      "cell_type": "markdown",
      "source": [
        "### Salaries"
      ],
      "metadata": {
        "id": "hrInpLvgod65"
      }
    },
    {
      "cell_type": "code",
      "source": [
        "query = \"\"\"\n",
        "CREATE TABLE delta.`/tmp/salaries` USING DELTA AS\n",
        "SELECT col1 as serial, col2 as salary\n",
        "FROM VALUES (\"12345\", 45000),\n",
        "        (\"67890\", 52000),\n",
        "        (\"24680\", 36000),\n",
        "        (\"78120\", 60000),\n",
        "        (\"97362\",38000)\n",
        "\"\"\"\n",
        "spark.sql(query)"
      ],
      "metadata": {
        "colab": {
          "base_uri": "https://localhost:8080/"
        },
        "id": "MVChthzayPAH",
        "outputId": "d549d1c5-7f43-4b3d-ced2-f3bfde2a5541"
      },
      "execution_count": null,
      "outputs": [
        {
          "output_type": "execute_result",
          "data": {
            "text/plain": [
              "DataFrame[]"
            ]
          },
          "metadata": {},
          "execution_count": 27
        }
      ]
    },
    {
      "cell_type": "code",
      "source": [
        "query = \"\"\"\n",
        "SELECT * from delta.`/tmp/salaries`\n",
        "\"\"\"\n",
        "spark.sql(query).show()"
      ],
      "metadata": {
        "colab": {
          "base_uri": "https://localhost:8080/"
        },
        "id": "Q1Z-4SS8yO0_",
        "outputId": "509952d2-f69f-495c-adbd-233a023281ed"
      },
      "execution_count": null,
      "outputs": [
        {
          "output_type": "stream",
          "name": "stdout",
          "text": [
            "+------+------+\n",
            "|serial|salary|\n",
            "+------+------+\n",
            "| 24680| 36000|\n",
            "| 78120| 60000|\n",
            "| 97362| 38000|\n",
            "| 12345| 45000|\n",
            "| 67890| 52000|\n",
            "+------+------+\n",
            "\n"
          ]
        }
      ]
    },
    {
      "cell_type": "code",
      "source": [
        "query = \"\"\"\n",
        "CREATE TEMP VIEW newSalaries AS\n",
        "SELECT col1 as serial, col2 as salary\n",
        "FROM VALUES (\"12345\", 47000),\n",
        "        (\"67890\", 50000),\n",
        "        (\"24680\", 46000),\n",
        "        (\"78120\", 61000),\n",
        "        (\"97362\",39000)\n",
        "\"\"\"\n",
        "spark.sql(query)"
      ],
      "metadata": {
        "colab": {
          "base_uri": "https://localhost:8080/"
        },
        "id": "TgVPE7qXytsy",
        "outputId": "0c4ad27d-3091-40f4-e640-c8b4b48d1c27"
      },
      "execution_count": null,
      "outputs": [
        {
          "output_type": "execute_result",
          "data": {
            "text/plain": [
              "DataFrame[]"
            ]
          },
          "metadata": {},
          "execution_count": 29
        }
      ]
    },
    {
      "cell_type": "code",
      "source": [
        "query = \"\"\"\n",
        "SELECT * from newSalaries\n",
        "\"\"\"\n",
        "spark.sql(query).show()"
      ],
      "metadata": {
        "colab": {
          "base_uri": "https://localhost:8080/"
        },
        "id": "XodXLDZGytly",
        "outputId": "c2e78eef-1653-4944-9328-3b835f5d9478"
      },
      "execution_count": null,
      "outputs": [
        {
          "output_type": "stream",
          "name": "stdout",
          "text": [
            "+------+------+\n",
            "|serial|salary|\n",
            "+------+------+\n",
            "| 12345| 47000|\n",
            "| 67890| 50000|\n",
            "| 24680| 46000|\n",
            "| 78120| 61000|\n",
            "| 97362| 39000|\n",
            "+------+------+\n",
            "\n"
          ]
        }
      ]
    },
    {
      "cell_type": "markdown",
      "source": [
        "### Sales"
      ],
      "metadata": {
        "id": "qvCkgOJ2o51k"
      }
    },
    {
      "cell_type": "code",
      "source": [
        "query = \"\"\"\n",
        "CREATE TABLE delta.`/tmp/sales` USING DELTA AS\n",
        "SELECT col1 as product_id, col2 as quantity, col3 as totalprice\n",
        "FROM VALUES (\"CHA_2\",2,60),(\"BED_4\",1,300),(\"SHO_15\",2,60)\n",
        "\"\"\"\n",
        "spark.sql(query)"
      ],
      "metadata": {
        "colab": {
          "base_uri": "https://localhost:8080/"
        },
        "id": "UHT6rUe3zGtE",
        "outputId": "d1cd4bd6-127d-4a5d-d292-925502fd7ab6"
      },
      "execution_count": null,
      "outputs": [
        {
          "output_type": "execute_result",
          "data": {
            "text/plain": [
              "DataFrame[]"
            ]
          },
          "metadata": {},
          "execution_count": 31
        }
      ]
    },
    {
      "cell_type": "code",
      "source": [
        "query = \"\"\"\n",
        "SELECT * FROM delta.`/tmp/sales`\n",
        "\"\"\"\n",
        "spark.sql(query).show()"
      ],
      "metadata": {
        "colab": {
          "base_uri": "https://localhost:8080/"
        },
        "id": "IcvSG8Bs1qJu",
        "outputId": "1120b520-8793-41dc-b6b6-36785dcbf1c8"
      },
      "execution_count": null,
      "outputs": [
        {
          "output_type": "stream",
          "name": "stdout",
          "text": [
            "+----------+--------+----------+\n",
            "|product_id|quantity|totalprice|\n",
            "+----------+--------+----------+\n",
            "|     BED_4|       1|       300|\n",
            "|    SHO_15|       2|        60|\n",
            "|     CHA_2|       2|        60|\n",
            "+----------+--------+----------+\n",
            "\n"
          ]
        }
      ]
    },
    {
      "cell_type": "code",
      "source": [
        "query = \"\"\"\n",
        "CREATE TABLE delta.`/tmp/salesStatus` USING DELTA AS\n",
        "SELECT product_id, quantity, totalprice, 'available' as status\n",
        "FROM delta.`/tmp/sales`\n",
        "\"\"\"\n",
        "spark.sql(query)"
      ],
      "metadata": {
        "colab": {
          "base_uri": "https://localhost:8080/"
        },
        "id": "loBnyH7QGVc1",
        "outputId": "97d932eb-7a12-4c69-bb2a-a7e59bfb338b"
      },
      "execution_count": null,
      "outputs": [
        {
          "output_type": "execute_result",
          "data": {
            "text/plain": [
              "DataFrame[]"
            ]
          },
          "metadata": {},
          "execution_count": 33
        }
      ]
    },
    {
      "cell_type": "code",
      "source": [
        "query = \"\"\"\n",
        "SELECT * FROM delta.`/tmp/salesStatus`\n",
        "\"\"\"\n",
        "spark.sql(query).show()"
      ],
      "metadata": {
        "colab": {
          "base_uri": "https://localhost:8080/"
        },
        "id": "i389omYMGoeL",
        "outputId": "9eddf0c3-93c4-438a-814f-2a93171125aa"
      },
      "execution_count": null,
      "outputs": [
        {
          "output_type": "stream",
          "name": "stdout",
          "text": [
            "+----------+--------+----------+---------+\n",
            "|product_id|quantity|totalprice|   status|\n",
            "+----------+--------+----------+---------+\n",
            "|     BED_4|       1|       300|available|\n",
            "|    SHO_15|       2|        60|available|\n",
            "|     CHA_2|       2|        60|available|\n",
            "+----------+--------+----------+---------+\n",
            "\n"
          ]
        }
      ]
    },
    {
      "cell_type": "code",
      "source": [
        "query = \"\"\"\n",
        "CREATE TEMP VIEW newSales AS\n",
        "SELECT col1 as product_id, col2 as quantity, col3 as totalprice\n",
        "FROM VALUES (\"SHO_15\",3,90),(\"CHA_2\",1,30),(\"BED_6\",1,200)\n",
        "\n",
        "\"\"\"\n",
        "spark.sql(query)\n"
      ],
      "metadata": {
        "colab": {
          "base_uri": "https://localhost:8080/"
        },
        "id": "o80YSQtzzGnM",
        "outputId": "97e28b2c-a77c-4f2b-cb2b-87eae6e8c64e"
      },
      "execution_count": null,
      "outputs": [
        {
          "output_type": "execute_result",
          "data": {
            "text/plain": [
              "DataFrame[]"
            ]
          },
          "metadata": {},
          "execution_count": 35
        }
      ]
    },
    {
      "cell_type": "code",
      "source": [
        "query = \"\"\"\n",
        "SELECT * FROM newSales\n",
        "\"\"\"\n",
        "spark.sql(query).show()"
      ],
      "metadata": {
        "colab": {
          "base_uri": "https://localhost:8080/"
        },
        "id": "Ede4oEeM2Wz1",
        "outputId": "0b18ba6d-4700-43e2-e7be-8d2e45b0ae0d"
      },
      "execution_count": null,
      "outputs": [
        {
          "output_type": "stream",
          "name": "stdout",
          "text": [
            "+----------+--------+----------+\n",
            "|product_id|quantity|totalprice|\n",
            "+----------+--------+----------+\n",
            "|    SHO_15|       3|        90|\n",
            "|     CHA_2|       1|        30|\n",
            "|     BED_6|       1|       200|\n",
            "+----------+--------+----------+\n",
            "\n"
          ]
        }
      ]
    },
    {
      "cell_type": "markdown",
      "source": [
        "### Products"
      ],
      "metadata": {
        "id": "29J3fU3po_v0"
      }
    },
    {
      "cell_type": "code",
      "source": [
        "query = \"\"\"\n",
        "CREATE TEMP VIEW products AS\n",
        "SELECT col1 as product_id, col2 as category, col3 as color\n",
        "FROM VALUES (\"CHA_2\",\"Furniture\",\"blue\"),(\"BED_4\",\"Furniture\",\"brown\"),(\"SHO_15\",\"Cloth\",\"black\")\n",
        "\n",
        "\"\"\"\n",
        "spark.sql(query)"
      ],
      "metadata": {
        "colab": {
          "base_uri": "https://localhost:8080/"
        },
        "id": "aTPJFSMp2bh7",
        "outputId": "fe53e88f-6b01-4d2b-e0d7-1c9ad7522795"
      },
      "execution_count": null,
      "outputs": [
        {
          "output_type": "execute_result",
          "data": {
            "text/plain": [
              "DataFrame[]"
            ]
          },
          "metadata": {},
          "execution_count": 37
        }
      ]
    },
    {
      "cell_type": "code",
      "source": [
        "query = \"\"\"\n",
        "SELECT * FROM products\n",
        "\"\"\"\n",
        "spark.sql(query).show()"
      ],
      "metadata": {
        "colab": {
          "base_uri": "https://localhost:8080/"
        },
        "id": "8RWuphHw2j-7",
        "outputId": "ff401789-1750-4a9d-93ea-9d8b31c0cf7e"
      },
      "execution_count": null,
      "outputs": [
        {
          "output_type": "stream",
          "name": "stdout",
          "text": [
            "+----------+---------+-----+\n",
            "|product_id| category|color|\n",
            "+----------+---------+-----+\n",
            "|     CHA_2|Furniture| blue|\n",
            "|     BED_4|Furniture|brown|\n",
            "|    SHO_15|    Cloth|black|\n",
            "+----------+---------+-----+\n",
            "\n"
          ]
        }
      ]
    },
    {
      "cell_type": "markdown",
      "source": [
        "### Query the catalog"
      ],
      "metadata": {
        "id": "t0tJRTJ5FmxO"
      }
    },
    {
      "cell_type": "code",
      "source": [
        "query = \"\"\"\n",
        "SHOW Tables\n",
        "\"\"\"\n",
        "spark.sql(query).show()"
      ],
      "metadata": {
        "colab": {
          "base_uri": "https://localhost:8080/"
        },
        "id": "cpYC8IveFr6R",
        "outputId": "b9c776f5-470f-44bc-ccab-3449eea93f5e"
      },
      "execution_count": null,
      "outputs": [
        {
          "output_type": "stream",
          "name": "stdout",
          "text": [
            "+---------+-----------+-----------+\n",
            "|namespace|  tableName|isTemporary|\n",
            "+---------+-----------+-----------+\n",
            "|         |    newdata|      false|\n",
            "|         | newpersons|      false|\n",
            "|         |newsalaries|      false|\n",
            "|         |   newsales|      false|\n",
            "|         |   products|      false|\n",
            "+---------+-----------+-----------+\n",
            "\n"
          ]
        }
      ]
    },
    {
      "cell_type": "code",
      "source": [
        "query = \"\"\"\n",
        "Describe products\n",
        "\"\"\"\n",
        "spark.sql(query).show()"
      ],
      "metadata": {
        "colab": {
          "base_uri": "https://localhost:8080/"
        },
        "id": "zxZnxMF_Hgd7",
        "outputId": "0d641cd4-e0a3-478d-c6a1-0d97103ce972"
      },
      "execution_count": null,
      "outputs": [
        {
          "output_type": "stream",
          "name": "stdout",
          "text": [
            "+----------+---------+-------+\n",
            "|  col_name|data_type|comment|\n",
            "+----------+---------+-------+\n",
            "|product_id|   string|   NULL|\n",
            "|  category|   string|   NULL|\n",
            "|     color|   string|   NULL|\n",
            "+----------+---------+-------+\n",
            "\n"
          ]
        }
      ]
    },
    {
      "cell_type": "markdown",
      "source": [
        "## Demo2: delta operations"
      ],
      "metadata": {
        "id": "OkgbLaJW-P0w"
      }
    },
    {
      "cell_type": "markdown",
      "source": [
        "### Q1. Adding new tuples\n",
        "Consider the Delta table `persons` with the following columns: serial, name, age, and address. You have a new dataset `newPersons` with the same columns, but with additional records. Write a merge statement to update the Delta table with the new records.\n"
      ],
      "metadata": {
        "id": "aRP_QqBQN8W1"
      }
    },
    {
      "cell_type": "code",
      "source": [
        "query = \"\"\"\n",
        "Describe delta.`/tmp/persons`\n",
        "\"\"\"\n",
        "spark.sql(query).show()"
      ],
      "metadata": {
        "colab": {
          "base_uri": "https://localhost:8080/"
        },
        "id": "OKbp3K6iIAuI",
        "outputId": "5a80985f-16b7-4be1-c1fb-4b2b00ed47fe"
      },
      "execution_count": null,
      "outputs": [
        {
          "output_type": "stream",
          "name": "stdout",
          "text": [
            "+--------+---------+-------+\n",
            "|col_name|data_type|comment|\n",
            "+--------+---------+-------+\n",
            "|  serial|   string|   NULL|\n",
            "|    name|   string|   NULL|\n",
            "|     age|      int|   NULL|\n",
            "| address|   string|   NULL|\n",
            "+--------+---------+-------+\n",
            "\n"
          ]
        }
      ]
    },
    {
      "cell_type": "code",
      "source": [
        "query = \"\"\"\n",
        "SELECT * FROM\n",
        "delta.`/tmp/persons`\n",
        "\"\"\"\n",
        "spark.sql(query).show()"
      ],
      "metadata": {
        "id": "xuH35WVCIPO-",
        "colab": {
          "base_uri": "https://localhost:8080/"
        },
        "outputId": "6544421c-02a3-4a93-c88e-fb085ab59c7c"
      },
      "execution_count": null,
      "outputs": [
        {
          "output_type": "stream",
          "name": "stdout",
          "text": [
            "+------+-------+---+-----------+\n",
            "|serial|   name|age|    address|\n",
            "+------+-------+---+-----------+\n",
            "| 12345|  Alice| 25|123 Main St|\n",
            "| 67890|    Bob| 30|456 Oak Ave|\n",
            "| 24680|Charlie| 35| 789 Elm St|\n",
            "+------+-------+---+-----------+\n",
            "\n"
          ]
        }
      ]
    },
    {
      "cell_type": "code",
      "source": [
        "query = \"\"\"\n",
        "MERGE INTO delta.`/tmp/persons` AS oldData\n",
        "USING newPersons\n",
        "ON oldData.serial = newPersons.serial\n",
        "WHEN NOT MATCHED\n",
        "  THEN INSERT *;\n",
        "\"\"\"\n",
        "spark.sql(query).show()"
      ],
      "metadata": {
        "colab": {
          "base_uri": "https://localhost:8080/"
        },
        "id": "GuQOLNgsEvLM",
        "outputId": "a9a1144d-1000-46f3-be68-3f13029d4d8d"
      },
      "execution_count": null,
      "outputs": [
        {
          "output_type": "stream",
          "name": "stdout",
          "text": [
            "+-----------------+----------------+----------------+-----------------+\n",
            "|num_affected_rows|num_updated_rows|num_deleted_rows|num_inserted_rows|\n",
            "+-----------------+----------------+----------------+-----------------+\n",
            "|                2|               0|               0|                2|\n",
            "+-----------------+----------------+----------------+-----------------+\n",
            "\n"
          ]
        }
      ]
    },
    {
      "cell_type": "code",
      "source": [
        "query = \"\"\"\n",
        "SELECT * FROM\n",
        "delta.`/tmp/persons`\n",
        "\"\"\"\n",
        "spark.sql(query).show()"
      ],
      "metadata": {
        "colab": {
          "base_uri": "https://localhost:8080/"
        },
        "id": "RkPVm4KAGcJ3",
        "outputId": "cdaaf26c-01a7-413c-8260-2aa4f2f34606"
      },
      "execution_count": null,
      "outputs": [
        {
          "output_type": "stream",
          "name": "stdout",
          "text": [
            "+------+-------+---+------------+\n",
            "|serial|   name|age|     address|\n",
            "+------+-------+---+------------+\n",
            "| 97362|  Lorry| 40|290 Wise Ave|\n",
            "| 12345|  Alice| 25| 123 Main St|\n",
            "| 78120|    Dan| 42|432 Holly Rd|\n",
            "| 67890|    Bob| 30| 456 Oak Ave|\n",
            "| 24680|Charlie| 35|  789 Elm St|\n",
            "+------+-------+---+------------+\n",
            "\n"
          ]
        }
      ]
    },
    {
      "cell_type": "markdown",
      "source": [
        "### Q2: updating existing tuples\n",
        "Assume you have a Delta table `salaries` with columns serial and salary. You want to update the salary of the employees who earn less than 50,000. You have a new dataset, `newSalaries` with the same columns but with updated salary information. Write a merge statement to update the `salaries` table with the new salary information.\n"
      ],
      "metadata": {
        "id": "nKD875I8OYT_"
      }
    },
    {
      "cell_type": "code",
      "source": [
        "query = \"\"\"\n",
        "Describe delta.`/tmp/salaries`\n",
        "\"\"\"\n",
        "spark.sql(query).show()"
      ],
      "metadata": {
        "colab": {
          "base_uri": "https://localhost:8080/"
        },
        "id": "8EzhpNL0Ih0u",
        "outputId": "299a9123-737b-46a6-9348-02ca8661b657"
      },
      "execution_count": null,
      "outputs": [
        {
          "output_type": "stream",
          "name": "stdout",
          "text": [
            "+--------+---------+-------+\n",
            "|col_name|data_type|comment|\n",
            "+--------+---------+-------+\n",
            "|  serial|   string|   NULL|\n",
            "|  salary|      int|   NULL|\n",
            "+--------+---------+-------+\n",
            "\n"
          ]
        }
      ]
    },
    {
      "cell_type": "code",
      "source": [
        "query = \"\"\"\n",
        "SELECT * FROM\n",
        "delta.`/tmp/salaries`\n",
        "\"\"\"\n",
        "spark.sql(query).show()"
      ],
      "metadata": {
        "colab": {
          "base_uri": "https://localhost:8080/"
        },
        "id": "i9_9jpaZIlvT",
        "outputId": "2e985ec6-fa8e-4386-acce-b632b45e5c39"
      },
      "execution_count": null,
      "outputs": [
        {
          "output_type": "stream",
          "name": "stdout",
          "text": [
            "+------+------+\n",
            "|serial|salary|\n",
            "+------+------+\n",
            "| 24680| 36000|\n",
            "| 78120| 60000|\n",
            "| 97362| 38000|\n",
            "| 12345| 45000|\n",
            "| 67890| 52000|\n",
            "+------+------+\n",
            "\n"
          ]
        }
      ]
    },
    {
      "cell_type": "code",
      "source": [
        "query = \"\"\"\n",
        "MERGE INTO delta.`/tmp/salaries` AS oldData\n",
        "USING newSalaries\n",
        "ON oldData.serial = newSalaries.serial\n",
        "WHEN MATCHED AND oldData.salary<50000\n",
        "  THEN UPDATE SET oldData.salary=newSalaries.salary;\n",
        "\"\"\"\n",
        "spark.sql(query).show()"
      ],
      "metadata": {
        "colab": {
          "base_uri": "https://localhost:8080/"
        },
        "id": "YutXzBL8Gp1U",
        "outputId": "60e2ff25-7b49-42d3-adf3-4ad067d72c70"
      },
      "execution_count": null,
      "outputs": [
        {
          "output_type": "stream",
          "name": "stdout",
          "text": [
            "+-----------------+----------------+----------------+-----------------+\n",
            "|num_affected_rows|num_updated_rows|num_deleted_rows|num_inserted_rows|\n",
            "+-----------------+----------------+----------------+-----------------+\n",
            "|                3|               3|               0|                0|\n",
            "+-----------------+----------------+----------------+-----------------+\n",
            "\n"
          ]
        }
      ]
    },
    {
      "cell_type": "code",
      "source": [
        "query = \"\"\"\n",
        "SELECT * FROM\n",
        "delta.`/tmp/salaries`\n",
        "\"\"\"\n",
        "spark.sql(query).show()"
      ],
      "metadata": {
        "colab": {
          "base_uri": "https://localhost:8080/"
        },
        "id": "zgv1dfHtGpy1",
        "outputId": "12517850-9bac-437c-b8a8-61dfd1ef6d34"
      },
      "execution_count": null,
      "outputs": [
        {
          "output_type": "stream",
          "name": "stdout",
          "text": [
            "+------+------+\n",
            "|serial|salary|\n",
            "+------+------+\n",
            "| 24680| 46000|\n",
            "| 78120| 60000|\n",
            "| 97362| 39000|\n",
            "| 12345| 47000|\n",
            "| 67890| 52000|\n",
            "+------+------+\n",
            "\n"
          ]
        }
      ]
    },
    {
      "cell_type": "markdown",
      "source": [
        "### Q3: adding new tuples and updating existing ones\n",
        "You have a Delta table `sales` with columns `product_id`, `quantity`, and `totalprice`. Write a merge statement to insert the new products from a dataframe `newSales` into `sales` and to make sure that, for existing products `sales` has the sum of the quantity and totalprice.\n"
      ],
      "metadata": {
        "id": "hU_0ZWKHoqwj"
      }
    },
    {
      "cell_type": "code",
      "source": [
        "query = \"\"\"\n",
        "Describe delta.`/tmp/sales`\n",
        "\"\"\"\n",
        "spark.sql(query).show()"
      ],
      "metadata": {
        "colab": {
          "base_uri": "https://localhost:8080/"
        },
        "id": "qHdrMl4UI32t",
        "outputId": "b60f404d-d543-4988-a5f7-c4887db05df7"
      },
      "execution_count": null,
      "outputs": [
        {
          "output_type": "stream",
          "name": "stdout",
          "text": [
            "+----------+---------+-------+\n",
            "|  col_name|data_type|comment|\n",
            "+----------+---------+-------+\n",
            "|product_id|   string|   NULL|\n",
            "|  quantity|      int|   NULL|\n",
            "|totalprice|      int|   NULL|\n",
            "+----------+---------+-------+\n",
            "\n"
          ]
        }
      ]
    },
    {
      "cell_type": "code",
      "source": [
        "query = \"\"\"\n",
        "SELECT * FROM\n",
        "delta.`/tmp/sales`\n",
        "\"\"\"\n",
        "spark.sql(query).show()"
      ],
      "metadata": {
        "colab": {
          "base_uri": "https://localhost:8080/"
        },
        "id": "SaYEljM4I7fS",
        "outputId": "b7fb7efe-667e-481d-c028-fcab123c00e7"
      },
      "execution_count": null,
      "outputs": [
        {
          "output_type": "stream",
          "name": "stdout",
          "text": [
            "+----------+--------+----------+\n",
            "|product_id|quantity|totalprice|\n",
            "+----------+--------+----------+\n",
            "|     BED_4|       1|       300|\n",
            "|    SHO_15|       2|        60|\n",
            "|     CHA_2|       2|        60|\n",
            "+----------+--------+----------+\n",
            "\n"
          ]
        }
      ]
    },
    {
      "cell_type": "code",
      "source": [
        "query = \"\"\"\n",
        "MERGE INTO delta.`/tmp/sales` AS oldData\n",
        "USING newSales\n",
        "ON oldData.product_id = newSales.product_id\n",
        "WHEN MATCHED\n",
        "  THEN UPDATE SET oldData.quantity = oldData.quantity + newSales.quantity,\n",
        "                  oldData.totalprice = oldData.totalprice + newSales.totalprice\n",
        "WHEN NOT MATCHED\n",
        "  THEN INSERT *\n",
        "\"\"\"\n",
        "spark.sql(query).show()"
      ],
      "metadata": {
        "colab": {
          "base_uri": "https://localhost:8080/"
        },
        "id": "CiHqjAQxIbAP",
        "outputId": "0df99073-0c1f-42dc-b5f9-8b5f691a32fc"
      },
      "execution_count": null,
      "outputs": [
        {
          "output_type": "stream",
          "name": "stdout",
          "text": [
            "+-----------------+----------------+----------------+-----------------+\n",
            "|num_affected_rows|num_updated_rows|num_deleted_rows|num_inserted_rows|\n",
            "+-----------------+----------------+----------------+-----------------+\n",
            "|                3|               2|               0|                1|\n",
            "+-----------------+----------------+----------------+-----------------+\n",
            "\n"
          ]
        }
      ]
    },
    {
      "cell_type": "code",
      "source": [
        "query = \"\"\"\n",
        "SELECT * FROM\n",
        "delta.`/tmp/sales`\n",
        "\"\"\"\n",
        "spark.sql(query).show()"
      ],
      "metadata": {
        "colab": {
          "base_uri": "https://localhost:8080/"
        },
        "id": "BA6nfkPGIa5D",
        "outputId": "ff0febff-1166-4e4a-bb5c-4478e64c2e2f"
      },
      "execution_count": null,
      "outputs": [
        {
          "output_type": "stream",
          "name": "stdout",
          "text": [
            "+----------+--------+----------+\n",
            "|product_id|quantity|totalprice|\n",
            "+----------+--------+----------+\n",
            "|     BED_4|       1|       300|\n",
            "|     BED_6|       1|       200|\n",
            "|     CHA_2|       3|        90|\n",
            "|    SHO_15|       5|       150|\n",
            "+----------+--------+----------+\n",
            "\n"
          ]
        }
      ]
    },
    {
      "cell_type": "markdown",
      "source": [
        "### Q4: Merging tables with different schemas\n",
        "Consier the delta table `sales`.  Write a merge statement to augment `sales` with the cateogry and the color of the products by using an auxiliary table `Products` whose schema is `product_id`, `category` and `color` and such that `product_id` can used for matching the tuples of `sales`."
      ],
      "metadata": {
        "id": "cOCzQqTmy7h9"
      }
    },
    {
      "cell_type": "code",
      "source": [
        "query = \"\"\"\n",
        "MERGE INTO delta.`/tmp/sales` oldData\n",
        "USING products\n",
        "ON oldData.product_id = products.product_id\n",
        "WHEN MATCHED\n",
        "  THEN UPDATE SET *\n",
        "WHEN NOT MATCHED\n",
        "  THEN INSERT *\n",
        "\"\"\"\n",
        "spark.sql(query).show()"
      ],
      "metadata": {
        "colab": {
          "base_uri": "https://localhost:8080/"
        },
        "id": "eNPS7CN5Kj-v",
        "outputId": "2684bb60-7bf5-44be-b35b-66dd6ceb1dff"
      },
      "execution_count": null,
      "outputs": [
        {
          "output_type": "stream",
          "name": "stdout",
          "text": [
            "+-----------------+----------------+----------------+-----------------+\n",
            "|num_affected_rows|num_updated_rows|num_deleted_rows|num_inserted_rows|\n",
            "+-----------------+----------------+----------------+-----------------+\n",
            "|                3|               3|               0|                0|\n",
            "+-----------------+----------------+----------------+-----------------+\n",
            "\n"
          ]
        }
      ]
    },
    {
      "cell_type": "code",
      "source": [
        "query = \"\"\"\n",
        "SELECT * FROM delta.`/tmp/sales`\n",
        "\"\"\"\n",
        "spark.sql(query).show()"
      ],
      "metadata": {
        "colab": {
          "base_uri": "https://localhost:8080/"
        },
        "id": "jGPtjZOcLhWr",
        "outputId": "15b67157-a87c-443a-b7af-79a9d6de3376"
      },
      "execution_count": null,
      "outputs": [
        {
          "output_type": "stream",
          "name": "stdout",
          "text": [
            "+----------+--------+----------+---------+-----+\n",
            "|product_id|quantity|totalprice| category|color|\n",
            "+----------+--------+----------+---------+-----+\n",
            "|     BED_4|       1|       300|Furniture|brown|\n",
            "|     BED_6|       1|       200|     NULL| NULL|\n",
            "|     CHA_2|       3|        90|Furniture| blue|\n",
            "|    SHO_15|       5|       150|    Cloth|black|\n",
            "+----------+--------+----------+---------+-----+\n",
            "\n"
          ]
        }
      ]
    },
    {
      "cell_type": "markdown",
      "source": [
        "### Q5: updating existing tuples when not matched by source\n",
        "Consier the delta table `salesStatus` which extends the table `sales` with the column `status` meant to track the availability of products.\n",
        "Write a merge statement that:\n",
        "- updates the quantity of products in `salesStatus` by considering sales reported in `newSales` like in Q3 above and\n",
        "- marks the status of the products which are not reported in `newSales` as 'unavailable'"
      ],
      "metadata": {
        "id": "iLZxdogbGs05"
      }
    },
    {
      "cell_type": "code",
      "source": [
        "query = \"\"\"\n",
        "MERGE INTO delta.`/tmp/salesStatus` AS oldData\n",
        "USING newSales\n",
        "ON oldData.product_id = newSales.product_id\n",
        "WHEN MATCHED\n",
        "  THEN UPDATE SET oldData.quantity = oldData.quantity + newSales.quantity,\n",
        "                  oldData.totalprice = oldData.totalprice + newSales.totalprice\n",
        "WHEN NOT MATCHED BY SOURCE\n",
        "  THEN UPDATE SET oldData.status = 'unavailable'\n",
        "\"\"\"\n",
        "spark.sql(query).show()"
      ],
      "metadata": {
        "colab": {
          "base_uri": "https://localhost:8080/"
        },
        "id": "LawVDl8JIQyI",
        "outputId": "031557f3-dcdd-47ad-f01f-b56260b648bd"
      },
      "execution_count": null,
      "outputs": [
        {
          "output_type": "stream",
          "name": "stdout",
          "text": [
            "+-----------------+----------------+----------------+-----------------+\n",
            "|num_affected_rows|num_updated_rows|num_deleted_rows|num_inserted_rows|\n",
            "+-----------------+----------------+----------------+-----------------+\n",
            "|                3|               3|               0|                0|\n",
            "+-----------------+----------------+----------------+-----------------+\n",
            "\n"
          ]
        }
      ]
    },
    {
      "cell_type": "code",
      "source": [
        "query = \"\"\"\n",
        "SELECT * FROM delta.`/tmp/salesStatus`\n",
        "\"\"\"\n",
        "spark.sql(query).show()"
      ],
      "metadata": {
        "colab": {
          "base_uri": "https://localhost:8080/"
        },
        "id": "HGoK-tEEIVBc",
        "outputId": "d6e08a18-bcfc-429c-c1f6-5f880c5f706d"
      },
      "execution_count": null,
      "outputs": [
        {
          "output_type": "stream",
          "name": "stdout",
          "text": [
            "+----------+--------+----------+-----------+\n",
            "|product_id|quantity|totalprice|     status|\n",
            "+----------+--------+----------+-----------+\n",
            "|     BED_4|       1|       300|unavailable|\n",
            "|     CHA_2|       3|        90|  available|\n",
            "|    SHO_15|       5|       150|  available|\n",
            "+----------+--------+----------+-----------+\n",
            "\n"
          ]
        }
      ]
    },
    {
      "cell_type": "markdown",
      "source": [
        "## Demo 3: Attaching constraints"
      ],
      "metadata": {
        "id": "D6Q_U_6R1yBP"
      }
    },
    {
      "cell_type": "markdown",
      "source": [
        "### Not-null constraint"
      ],
      "metadata": {
        "id": "wWeLbIQj1-3D"
      }
    },
    {
      "cell_type": "code",
      "source": [
        "query = \"\"\"\n",
        "CREATE TABLE default.persons (\n",
        "    serial INT NOT NULL,\n",
        "    name STRING,\n",
        "    birthDate TIMESTAMP,\n",
        "    address STRING\n",
        "  ) USING DELTA;\n",
        "\"\"\"\n",
        "spark.sql(query)"
      ],
      "metadata": {
        "colab": {
          "base_uri": "https://localhost:8080/"
        },
        "id": "5TqMXDUD13mQ",
        "outputId": "7683c052-76f4-48f9-a438-8e09722a121d"
      },
      "execution_count": null,
      "outputs": [
        {
          "output_type": "execute_result",
          "data": {
            "text/plain": [
              "DataFrame[]"
            ]
          },
          "metadata": {},
          "execution_count": 57
        }
      ]
    },
    {
      "cell_type": "code",
      "source": [
        "query = \"\"\"insert into default.persons values (12345, \"Alice\",\"2000-02-01\" ,\"123 Main St\") \"\"\"\n",
        "spark.sql(query)"
      ],
      "metadata": {
        "colab": {
          "base_uri": "https://localhost:8080/"
        },
        "id": "ILZAiGWN3HzV",
        "outputId": "f1612277-29bb-4ed3-b270-c884a21de4f9"
      },
      "execution_count": null,
      "outputs": [
        {
          "output_type": "execute_result",
          "data": {
            "text/plain": [
              "DataFrame[]"
            ]
          },
          "metadata": {},
          "execution_count": 58
        }
      ]
    },
    {
      "cell_type": "code",
      "source": [
        "query = \"\"\"select * from default.persons \"\"\"\n",
        "spark.sql(query).show()"
      ],
      "metadata": {
        "colab": {
          "base_uri": "https://localhost:8080/"
        },
        "id": "C7yIbaHm3bmb",
        "outputId": "5df45f67-49b1-4348-8f93-96a01e0e8aa6"
      },
      "execution_count": null,
      "outputs": [
        {
          "output_type": "stream",
          "name": "stdout",
          "text": [
            "+------+-----+-------------------+-----------+\n",
            "|serial| name|          birthDate|    address|\n",
            "+------+-----+-------------------+-----------+\n",
            "| 12345|Alice|2000-02-01 00:00:00|123 Main St|\n",
            "+------+-----+-------------------+-----------+\n",
            "\n"
          ]
        }
      ]
    },
    {
      "cell_type": "markdown",
      "source": [
        "Can we run the following statement?"
      ],
      "metadata": {
        "id": "8ukalnEM3tw0"
      }
    },
    {
      "cell_type": "code",
      "source": [
        "#query = \"\"\"insert into default.persons values (null, \"Bob\",\"1996-03-14\" ,\"456 Oak Ave\") \"\"\"\n",
        "#spark.sql(query).show()"
      ],
      "metadata": {
        "id": "e4QMxLUrMUsu"
      },
      "execution_count": null,
      "outputs": []
    },
    {
      "cell_type": "markdown",
      "source": [
        "### Predicate constraint"
      ],
      "metadata": {
        "id": "OCQ_46q02BDs"
      }
    },
    {
      "cell_type": "code",
      "source": [
        "spark.sql(\"\"\" ALTER TABLE default.persons ADD CONSTRAINT birthdate CHECK (birthDate > '2000-01-01'); \"\"\")"
      ],
      "metadata": {
        "colab": {
          "base_uri": "https://localhost:8080/"
        },
        "id": "yuhD3yaL2GU8",
        "outputId": "15f15f4b-06d8-4989-cd3d-24aa7b03026b"
      },
      "execution_count": null,
      "outputs": [
        {
          "output_type": "execute_result",
          "data": {
            "text/plain": [
              "DataFrame[]"
            ]
          },
          "metadata": {},
          "execution_count": 62
        }
      ]
    },
    {
      "cell_type": "code",
      "source": [
        "spark.sql(\"\"\"SHOW TBLPROPERTIES default.persons\"\"\").show(truncate=False)"
      ],
      "metadata": {
        "colab": {
          "base_uri": "https://localhost:8080/"
        },
        "id": "wWsQJYGi4n0A",
        "outputId": "07ffd76e-aba9-4a0f-cbce-687efee18083"
      },
      "execution_count": null,
      "outputs": [
        {
          "output_type": "stream",
          "name": "stdout",
          "text": [
            "+---------------------------+------------------------+\n",
            "|key                        |value                   |\n",
            "+---------------------------+------------------------+\n",
            "|delta.constraints.birthdate|birthDate > '2000-01-01'|\n",
            "|delta.minReaderVersion     |1                       |\n",
            "|delta.minWriterVersion     |3                       |\n",
            "+---------------------------+------------------------+\n",
            "\n"
          ]
        }
      ]
    },
    {
      "cell_type": "code",
      "source": [
        "spark.sql(\"\"\"insert into default.persons values (47962, \"Bob\",\"2003-03-14\" ,\"456 Oak Ave\") \"\"\")"
      ],
      "metadata": {
        "colab": {
          "base_uri": "https://localhost:8080/"
        },
        "id": "L2jaoF7H35Uj",
        "outputId": "b09afc50-d4ad-4b4b-c36a-06c2c66b3bd8"
      },
      "execution_count": null,
      "outputs": [
        {
          "output_type": "execute_result",
          "data": {
            "text/plain": [
              "DataFrame[]"
            ]
          },
          "metadata": {},
          "execution_count": 64
        }
      ]
    },
    {
      "cell_type": "markdown",
      "source": [
        "Can we run the following statement?"
      ],
      "metadata": {
        "id": "hESBMIS434pn"
      }
    },
    {
      "cell_type": "code",
      "source": [
        "#spark.sql(\"\"\"insert into default.persons values (47962, \"Bob\",\"1999-03-14\" ,\"456 Oak Ave\") \"\"\")"
      ],
      "metadata": {
        "id": "O_zZuSuZlJPD"
      },
      "execution_count": null,
      "outputs": []
    },
    {
      "cell_type": "markdown",
      "source": [
        "### Generated columns\n",
        "The following  delta table contains three columns `year`, `month` and `day` that must correspond to the date elements in the `saledate` column."
      ],
      "metadata": {
        "id": "HVCjZ2MyDGS5"
      }
    },
    {
      "cell_type": "code",
      "source": [
        "from delta.tables import *\n",
        "DeltaTable.createOrReplace(spark) \\\n",
        "  .tableName(\"default.sales\") \\\n",
        "  .addColumn(\"saleid\", \"STRING\") \\\n",
        "  .addColumn(\"saledate\", \"TIMESTAMP\") \\\n",
        "  .addColumn(\"quantity\", \"INT\") \\\n",
        "  .addColumn(\"year\", \"INT\", generatedAlwaysAs=\"YEAR(saledate)\") \\\n",
        "  .addColumn(\"month\", \"INT\", generatedAlwaysAs=\"MONTH(saledate)\") \\\n",
        "  .addColumn(\"day\", \"INT\", generatedAlwaysAs=\"DAYOFMONTH(saledate)\") \\\n",
        "  .partitionedBy(\"year\", \"month\") \\\n",
        "  .execute()"
      ],
      "metadata": {
        "colab": {
          "base_uri": "https://localhost:8080/"
        },
        "id": "nDQp6eD7G-rG",
        "outputId": "315fef2c-781c-409e-f1a6-bd9cd707a9d9"
      },
      "execution_count": null,
      "outputs": [
        {
          "output_type": "execute_result",
          "data": {
            "text/plain": [
              "<delta.tables.DeltaTable at 0x7e3602fbc910>"
            ]
          },
          "metadata": {},
          "execution_count": 67
        }
      ]
    },
    {
      "cell_type": "code",
      "source": [
        "spark.sql(\"\"\" insert into default.sales\n",
        "            values ('S000000124','2023-02-26 00:00:00',2.0,2023,02,26)  \"\"\")"
      ],
      "metadata": {
        "colab": {
          "base_uri": "https://localhost:8080/"
        },
        "id": "h77HzhcKIPpi",
        "outputId": "ab5986ea-d505-45b6-d123-d833dafdc3d2"
      },
      "execution_count": null,
      "outputs": [
        {
          "output_type": "execute_result",
          "data": {
            "text/plain": [
              "DataFrame[]"
            ]
          },
          "metadata": {},
          "execution_count": 68
        }
      ]
    },
    {
      "cell_type": "code",
      "source": [
        "spark.sql(\"\"\" select * from default.sales \"\"\").show()"
      ],
      "metadata": {
        "colab": {
          "base_uri": "https://localhost:8080/"
        },
        "id": "KqE9dVCNIVm0",
        "outputId": "45e0c657-339d-49da-dd5e-f0c589670c01"
      },
      "execution_count": null,
      "outputs": [
        {
          "output_type": "stream",
          "name": "stdout",
          "text": [
            "+----------+-------------------+--------+----+-----+---+\n",
            "|    saleid|           saledate|quantity|year|month|day|\n",
            "+----------+-------------------+--------+----+-----+---+\n",
            "|S000000124|2023-02-26 00:00:00|       2|2023|    2| 26|\n",
            "+----------+-------------------+--------+----+-----+---+\n",
            "\n"
          ]
        }
      ]
    },
    {
      "cell_type": "markdown",
      "source": [
        "can we run the following command?"
      ],
      "metadata": {
        "id": "R0ag38IaIgvW"
      }
    },
    {
      "cell_type": "code",
      "source": [
        "#spark.sql(\"\"\" insert into default.sales values ('S000000124','2024-02-26 00:00:00',2.0,2023,02,26)  \"\"\")"
      ],
      "metadata": {
        "id": "YaBbdOXvIan7"
      },
      "execution_count": null,
      "outputs": []
    },
    {
      "cell_type": "markdown",
      "source": [
        "## Use case (answers not provided)"
      ],
      "metadata": {
        "id": "JgchT6SU7-xR"
      }
    },
    {
      "cell_type": "markdown",
      "source": [
        "### Data import"
      ],
      "metadata": {
        "id": "Z1G5IVktAXSx"
      }
    },
    {
      "cell_type": "code",
      "source": [
        "query = \"\"\"\n",
        "CREATE TABLE IF NOT EXISTS salesOriginal\n",
        "USING csv\n",
        "OPTIONS (\n",
        "  header \"true\",\n",
        "  path \"/tmp/delta/sales/salesOriginal.csv\",\n",
        "  inferSchema \"true\"\n",
        ")\n",
        "\"\"\"\n",
        "spark.sql(query)"
      ],
      "metadata": {
        "colab": {
          "base_uri": "https://localhost:8080/"
        },
        "id": "ordeWbBrN4nx",
        "outputId": "ed11cef5-1d8d-4475-abf9-d6f0c3827006"
      },
      "execution_count": null,
      "outputs": [
        {
          "output_type": "execute_result",
          "data": {
            "text/plain": [
              "DataFrame[]"
            ]
          },
          "metadata": {},
          "execution_count": 74
        }
      ]
    },
    {
      "cell_type": "code",
      "source": [
        "query = \"\"\"\n",
        "DESCRIBE salesOriginal\n",
        "\"\"\"\n",
        "spark.sql(query).show()"
      ],
      "metadata": {
        "colab": {
          "base_uri": "https://localhost:8080/"
        },
        "id": "g0Edbb9NQMdt",
        "outputId": "54a3c12e-d322-490c-92de-5ca30d8d7fe7"
      },
      "execution_count": null,
      "outputs": [
        {
          "output_type": "stream",
          "name": "stdout",
          "text": [
            "+-------------+---------+-------+\n",
            "|     col_name|data_type|comment|\n",
            "+-------------+---------+-------+\n",
            "|       saleid|   string|   NULL|\n",
            "|     saledate|     date|   NULL|\n",
            "|     quantity|   double|   NULL|\n",
            "|    unitprice|   double|   NULL|\n",
            "|       shopid|   string|   NULL|\n",
            "|         city|   string|   NULL|\n",
            "|        state|   string|   NULL|\n",
            "|      country|   string|   NULL|\n",
            "|     shopsize|   string|   NULL|\n",
            "|    productid|   string|   NULL|\n",
            "|     category|   string|   NULL|\n",
            "|  subcategory|   string|   NULL|\n",
            "|         size|   string|   NULL|\n",
            "|purchaseprice|   double|   NULL|\n",
            "|        color|   string|   NULL|\n",
            "|        brand|   string|   NULL|\n",
            "+-------------+---------+-------+\n",
            "\n"
          ]
        }
      ]
    },
    {
      "cell_type": "code",
      "source": [
        "query = \"\"\"\n",
        "CREATE TABLE IF NOT EXISTS march23_sales\n",
        "USING csv\n",
        "OPTIONS (\n",
        "  header \"true\",\n",
        "  path \"/tmp/delta/sales/march23_sales.csv\",\n",
        "  inferSchema \"true\"\n",
        ")\n",
        "\"\"\"\n",
        "spark.sql(query)"
      ],
      "metadata": {
        "colab": {
          "base_uri": "https://localhost:8080/"
        },
        "id": "s0W7igW8QZbn",
        "outputId": "53fef179-b9be-4fae-d3c1-476a2abe213d"
      },
      "execution_count": null,
      "outputs": [
        {
          "output_type": "execute_result",
          "data": {
            "text/plain": [
              "DataFrame[]"
            ]
          },
          "metadata": {},
          "execution_count": 76
        }
      ]
    },
    {
      "cell_type": "code",
      "source": [
        "query = \"\"\"\n",
        "DESCRIBE march23_sales\n",
        "\"\"\"\n",
        "spark.sql(query).show()"
      ],
      "metadata": {
        "colab": {
          "base_uri": "https://localhost:8080/"
        },
        "id": "v_tVBHO4QdNU",
        "outputId": "a69baf1f-4414-4c01-8f3e-e779956f1cad"
      },
      "execution_count": null,
      "outputs": [
        {
          "output_type": "stream",
          "name": "stdout",
          "text": [
            "+-------------+---------+-------+\n",
            "|     col_name|data_type|comment|\n",
            "+-------------+---------+-------+\n",
            "|       saleid|   string|   NULL|\n",
            "|     saledate|     date|   NULL|\n",
            "|     quantity|   double|   NULL|\n",
            "|    unitprice|   double|   NULL|\n",
            "|       shopid|   string|   NULL|\n",
            "|         city|   string|   NULL|\n",
            "|        state|   string|   NULL|\n",
            "|      country|   string|   NULL|\n",
            "|     shopsize|   string|   NULL|\n",
            "|    productid|   string|   NULL|\n",
            "|     category|   string|   NULL|\n",
            "|  subcategory|   string|   NULL|\n",
            "|         size|   string|   NULL|\n",
            "|purchaseprice|   double|   NULL|\n",
            "|        color|   string|   NULL|\n",
            "|        brand|   string|   NULL|\n",
            "+-------------+---------+-------+\n",
            "\n"
          ]
        }
      ]
    },
    {
      "cell_type": "markdown",
      "source": [
        "### Creation of the delta tables"
      ],
      "metadata": {
        "id": "6e_agqb2v0n2"
      }
    },
    {
      "cell_type": "code",
      "source": [
        "query = \"\"\"\n",
        "CREATE TABLE delta.`/tmp/deltaSales` USING DELTA AS SELECT * FROM salesOriginal;\n",
        "\"\"\"\n",
        "spark.sql(query)"
      ],
      "metadata": {
        "colab": {
          "base_uri": "https://localhost:8080/"
        },
        "id": "mWVBUgduQtNF",
        "outputId": "b141ce6e-a756-49e7-e306-c124eec1f2a1"
      },
      "execution_count": null,
      "outputs": [
        {
          "output_type": "execute_result",
          "data": {
            "text/plain": [
              "DataFrame[]"
            ]
          },
          "metadata": {},
          "execution_count": 78
        }
      ]
    },
    {
      "cell_type": "code",
      "source": [
        "query = \"\"\"\n",
        "SELECT * FROM  delta.`/tmp/deltaSales`\n",
        "\"\"\"\n",
        "spark.sql(query).show(5)"
      ],
      "metadata": {
        "colab": {
          "base_uri": "https://localhost:8080/"
        },
        "id": "HvFi5eYOREaI",
        "outputId": "705906fc-94ef-4715-b8f8-1cf39dd58488"
      },
      "execution_count": null,
      "outputs": [
        {
          "output_type": "stream",
          "name": "stdout",
          "text": [
            "+----------+----------+--------+---------+------+-------------+----------+-------+--------+---------+---------+-----------+------+-------------+-----+-----+\n",
            "|    saleid|  saledate|quantity|unitprice|shopid|         city|     state|country|shopsize|productid| category|subcategory|  size|purchaseprice|color|brand|\n",
            "+----------+----------+--------+---------+------+-------------+----------+-------+--------+---------+---------+-----------+------+-------------+-----+-----+\n",
            "|S000000124|2023-02-26|     2.0|     60.0|shop_4|San Francisco|California|    USA|   small|    CHA_2|Furniture|      Chair|  NULL|         48.0| blue|Basic|\n",
            "|S000000125|2023-02-25|     1.0|    150.0|shop_5|      Houston|     Texas|    USA|   small|    BED_3|Furniture|        Bed|Single|        127.0|  red| Mega|\n",
            "|S000000126|2023-02-24|     1.0|    300.0|shop_6|  San Antonio|     Texas|    USA|   small|    BED_4|Furniture|        Bed|Double|        252.0|brown|Basic|\n",
            "|S000000127|2023-02-23|     1.0|    395.0|shop_7|      Chicago|  Illinois|    USA|   small|    BED_5|Furniture|        Bed| Queen|        333.0|black| Mega|\n",
            "|S000000128|2023-02-22|     4.0|    440.0|shop_8|   Regensburg|   Bavaria|Germany|   small|    BED_6|Furniture|        Bed|  King|        375.0|white|Basic|\n",
            "+----------+----------+--------+---------+------+-------------+----------+-------+--------+---------+---------+-----------+------+-------------+-----+-----+\n",
            "only showing top 5 rows\n",
            "\n"
          ]
        }
      ]
    },
    {
      "cell_type": "markdown",
      "source": [
        "### Adding new records\n",
        "Write a merge statement to insert the march 2023 records into `deltaSales`"
      ],
      "metadata": {
        "id": "Dmo8PBuNAK_o"
      }
    },
    {
      "cell_type": "code",
      "source": [
        "query = \"\"\"\n",
        "MERGE INTO delta.`/tmp/deltaSales` as oldData\n",
        "USING march23_sales\n",
        "ON oldData.saleid = march23_sales.saleid\n",
        "WHEN NOT MATCHED\n",
        "  THEN INSERT *\n",
        "\"\"\"\n",
        "spark.sql(query).show()"
      ],
      "metadata": {
        "colab": {
          "base_uri": "https://localhost:8080/"
        },
        "id": "_vms7G0-SprG",
        "outputId": "f8044366-e8b8-42db-c89a-5dfe9f082987"
      },
      "execution_count": null,
      "outputs": [
        {
          "output_type": "stream",
          "name": "stdout",
          "text": [
            "+-----------------+----------------+----------------+-----------------+\n",
            "|num_affected_rows|num_updated_rows|num_deleted_rows|num_inserted_rows|\n",
            "+-----------------+----------------+----------------+-----------------+\n",
            "|               84|               0|               0|               84|\n",
            "+-----------------+----------------+----------------+-----------------+\n",
            "\n"
          ]
        }
      ]
    },
    {
      "cell_type": "markdown",
      "source": [
        "### Updating records\n",
        "Write update statements that increases the unitprice of products sold on 2023, based on their category, as follows: furniture -> 5%, others -> 10%"
      ],
      "metadata": {
        "id": "jJ0GWq2OAR06"
      }
    },
    {
      "cell_type": "code",
      "source": [
        "query = \"\"\"\n",
        "UPDATE delta.`/tmp/deltaSales`\n",
        "SET unitprice = unitprice * 1.05\n",
        "WHERE saledate >= '2023-01-01' AND category = 'Furniture'\n",
        "\"\"\"\n",
        "spark.sql(query).show()"
      ],
      "metadata": {
        "colab": {
          "base_uri": "https://localhost:8080/"
        },
        "id": "UPs31eToTAwT",
        "outputId": "00c19974-59c9-4975-e88a-7988b6df567c"
      },
      "execution_count": null,
      "outputs": [
        {
          "output_type": "stream",
          "name": "stdout",
          "text": [
            "+-----------------+\n",
            "|num_affected_rows|\n",
            "+-----------------+\n",
            "|              882|\n",
            "+-----------------+\n",
            "\n"
          ]
        }
      ]
    },
    {
      "cell_type": "code",
      "source": [
        "query = \"\"\"\n",
        "UPDATE delta.`/tmp/deltaSales`\n",
        "SET unitprice = unitprice * 1.1\n",
        "WHERE saledate >= '2023-01-01' and category != 'Furniture'\n",
        "\"\"\"\n",
        "spark.sql(query).show()"
      ],
      "metadata": {
        "colab": {
          "base_uri": "https://localhost:8080/"
        },
        "id": "XYz5VmL-U2qn",
        "outputId": "49c2d1c0-6a99-4ab7-b944-9a93116ce6d8"
      },
      "execution_count": null,
      "outputs": [
        {
          "output_type": "stream",
          "name": "stdout",
          "text": [
            "+-----------------+\n",
            "|num_affected_rows|\n",
            "+-----------------+\n",
            "|             1680|\n",
            "+-----------------+\n",
            "\n"
          ]
        }
      ]
    },
    {
      "cell_type": "markdown",
      "source": [
        "### Removing old records\n",
        "remove all sales older than 01-Jan-2023. How many records remain?"
      ],
      "metadata": {
        "id": "hNyHm2oly6Cg"
      }
    },
    {
      "cell_type": "code",
      "source": [
        "query = \"\"\"\n",
        "DELETE FROM delta.`/tmp/deltaSales`\n",
        "WHERE saledate < '2023-01-01'\n",
        "\"\"\"\n",
        "spark.sql(query).show()"
      ],
      "metadata": {
        "colab": {
          "base_uri": "https://localhost:8080/"
        },
        "id": "3OQOnU2nVMpV",
        "outputId": "457a8f6c-0331-4b2a-f1ac-5b99d191506e"
      },
      "execution_count": null,
      "outputs": [
        {
          "output_type": "stream",
          "name": "stdout",
          "text": [
            "+-----------------+\n",
            "|num_affected_rows|\n",
            "+-----------------+\n",
            "|             2438|\n",
            "+-----------------+\n",
            "\n"
          ]
        }
      ]
    },
    {
      "cell_type": "markdown",
      "source": [
        "### History viewing\n"
      ],
      "metadata": {
        "id": "3y09Br-I04C8"
      }
    },
    {
      "cell_type": "code",
      "source": [
        "query = \"\"\"\n",
        "DESCRIBE HISTORY delta.`/tmp/deltaSales`\n",
        "\"\"\"\n",
        "spark.sql(query).show()"
      ],
      "metadata": {
        "colab": {
          "base_uri": "https://localhost:8080/"
        },
        "id": "LWrOrQfDVfms",
        "outputId": "5f08ef67-be8f-4c90-f4ec-4af0f0ac11ab"
      },
      "execution_count": null,
      "outputs": [
        {
          "output_type": "stream",
          "name": "stdout",
          "text": [
            "+-------+--------------------+------+--------+--------------------+--------------------+----+--------+---------+-----------+--------------+-------------+--------------------+------------+--------------------+\n",
            "|version|           timestamp|userId|userName|           operation| operationParameters| job|notebook|clusterId|readVersion|isolationLevel|isBlindAppend|    operationMetrics|userMetadata|          engineInfo|\n",
            "+-------+--------------------+------+--------+--------------------+--------------------+----+--------+---------+-----------+--------------+-------------+--------------------+------------+--------------------+\n",
            "|      7|2024-10-16 18:01:...|  NULL|    NULL|              DELETE|{predicate -> [\"(...|NULL|    NULL|     NULL|          6|  Serializable|        false|{numRemovedFiles ...|        NULL|Apache-Spark/3.5....|\n",
            "|      6|2024-10-16 18:00:...|  NULL|    NULL|              UPDATE|{predicate -> [\"(...|NULL|    NULL|     NULL|          5|  Serializable|        false|{numRemovedFiles ...|        NULL|Apache-Spark/3.5....|\n",
            "|      5|2024-10-16 17:59:...|  NULL|    NULL|              UPDATE|{predicate -> [\"(...|NULL|    NULL|     NULL|          4|  Serializable|        false|{numRemovedFiles ...|        NULL|Apache-Spark/3.5....|\n",
            "|      4|2024-10-16 17:58:...|  NULL|    NULL|              UPDATE|{predicate -> [\"(...|NULL|    NULL|     NULL|          3|  Serializable|        false|{numRemovedFiles ...|        NULL|Apache-Spark/3.5....|\n",
            "|      3|2024-10-16 17:57:...|  NULL|    NULL|              UPDATE|   {predicate -> []}|NULL|    NULL|     NULL|          2|  Serializable|        false|{numRemovedFiles ...|        NULL|Apache-Spark/3.5....|\n",
            "|      2|2024-10-16 17:56:...|  NULL|    NULL|              UPDATE|{predicate -> [\"(...|NULL|    NULL|     NULL|          1|  Serializable|        false|{numRemovedFiles ...|        NULL|Apache-Spark/3.5....|\n",
            "|      1|2024-10-16 17:28:...|  NULL|    NULL|               MERGE|{predicate -> [\"(...|NULL|    NULL|     NULL|          0|  Serializable|        false|{numTargetRowsCop...|        NULL|Apache-Spark/3.5....|\n",
            "|      0|2024-10-16 17:22:...|  NULL|    NULL|CREATE TABLE AS S...|{isManaged -> fal...|NULL|    NULL|     NULL|       NULL|  Serializable|         true|{numFiles -> 1, n...|        NULL|Apache-Spark/3.5....|\n",
            "+-------+--------------------+------+--------+--------------------+--------------------+----+--------+---------+-----------+--------------+-------------+--------------------+------------+--------------------+\n",
            "\n"
          ]
        }
      ]
    },
    {
      "cell_type": "markdown",
      "source": [
        "### Restoring to a previous version"
      ],
      "metadata": {
        "id": "a1YclKosWbn5"
      }
    },
    {
      "cell_type": "code",
      "source": [
        "query = \"\"\"\n",
        "RESTORE TABLE delta.`/tmp/deltaSales` TO VERSION AS OF 2\n",
        "\"\"\"\n",
        "spark.sql(query).show()\n"
      ],
      "metadata": {
        "colab": {
          "base_uri": "https://localhost:8080/"
        },
        "id": "ChaMilCYWbQ2",
        "outputId": "b3f59ab0-e8c9-454a-96b3-4596b5fbbcf7"
      },
      "execution_count": null,
      "outputs": [
        {
          "output_type": "stream",
          "name": "stdout",
          "text": [
            "+------------------------+--------------------------+-----------------+------------------+------------------+-------------------+\n",
            "|table_size_after_restore|num_of_files_after_restore|num_removed_files|num_restored_files|removed_files_size|restored_files_size|\n",
            "+------------------------+--------------------------+-----------------+------------------+------------------+-------------------+\n",
            "|                   44148|                         2|                2|                 2|             28405|              44148|\n",
            "+------------------------+--------------------------+-----------------+------------------+------------------+-------------------+\n",
            "\n"
          ]
        }
      ]
    },
    {
      "cell_type": "code",
      "source": [
        "query = \"\"\"\n",
        "DESCRIBE HISTORY delta.`/tmp/deltaSales`\n",
        "\"\"\"\n",
        "spark.sql(query).show()"
      ],
      "metadata": {
        "colab": {
          "base_uri": "https://localhost:8080/"
        },
        "id": "CqQT52ChWqd1",
        "outputId": "73f5a179-1bbc-4568-e7e0-ef39ceaed72c"
      },
      "execution_count": null,
      "outputs": [
        {
          "output_type": "stream",
          "name": "stdout",
          "text": [
            "+-------+--------------------+------+--------+--------------------+--------------------+----+--------+---------+-----------+--------------+-------------+--------------------+------------+--------------------+\n",
            "|version|           timestamp|userId|userName|           operation| operationParameters| job|notebook|clusterId|readVersion|isolationLevel|isBlindAppend|    operationMetrics|userMetadata|          engineInfo|\n",
            "+-------+--------------------+------+--------+--------------------+--------------------+----+--------+---------+-----------+--------------+-------------+--------------------+------------+--------------------+\n",
            "|      8|2024-10-16 18:03:...|  NULL|    NULL|             RESTORE|{version -> 2, ti...|NULL|    NULL|     NULL|          7|  Serializable|        false|{numRestoredFiles...|        NULL|Apache-Spark/3.5....|\n",
            "|      7|2024-10-16 18:01:...|  NULL|    NULL|              DELETE|{predicate -> [\"(...|NULL|    NULL|     NULL|          6|  Serializable|        false|{numRemovedFiles ...|        NULL|Apache-Spark/3.5....|\n",
            "|      6|2024-10-16 18:00:...|  NULL|    NULL|              UPDATE|{predicate -> [\"(...|NULL|    NULL|     NULL|          5|  Serializable|        false|{numRemovedFiles ...|        NULL|Apache-Spark/3.5....|\n",
            "|      5|2024-10-16 17:59:...|  NULL|    NULL|              UPDATE|{predicate -> [\"(...|NULL|    NULL|     NULL|          4|  Serializable|        false|{numRemovedFiles ...|        NULL|Apache-Spark/3.5....|\n",
            "|      4|2024-10-16 17:58:...|  NULL|    NULL|              UPDATE|{predicate -> [\"(...|NULL|    NULL|     NULL|          3|  Serializable|        false|{numRemovedFiles ...|        NULL|Apache-Spark/3.5....|\n",
            "|      3|2024-10-16 17:57:...|  NULL|    NULL|              UPDATE|   {predicate -> []}|NULL|    NULL|     NULL|          2|  Serializable|        false|{numRemovedFiles ...|        NULL|Apache-Spark/3.5....|\n",
            "|      2|2024-10-16 17:56:...|  NULL|    NULL|              UPDATE|{predicate -> [\"(...|NULL|    NULL|     NULL|          1|  Serializable|        false|{numRemovedFiles ...|        NULL|Apache-Spark/3.5....|\n",
            "|      1|2024-10-16 17:28:...|  NULL|    NULL|               MERGE|{predicate -> [\"(...|NULL|    NULL|     NULL|          0|  Serializable|        false|{numTargetRowsCop...|        NULL|Apache-Spark/3.5....|\n",
            "|      0|2024-10-16 17:22:...|  NULL|    NULL|CREATE TABLE AS S...|{isManaged -> fal...|NULL|    NULL|     NULL|       NULL|  Serializable|         true|{numFiles -> 1, n...|        NULL|Apache-Spark/3.5....|\n",
            "+-------+--------------------+------+--------+--------------------+--------------------+----+--------+---------+-----------+--------------+-------------+--------------------+------------+--------------------+\n",
            "\n"
          ]
        }
      ]
    },
    {
      "cell_type": "markdown",
      "source": [
        "### Vacuuming old records\n",
        "Permanently remove the deleted records using `vacuum`. Check the history again and make sure that the removal has been performed."
      ],
      "metadata": {
        "id": "n26NZ5ity-Rj"
      }
    },
    {
      "cell_type": "code",
      "source": [
        "query = \"\"\"\n",
        "VACUUM delta.`/tmp/deltaSales`\n",
        "\"\"\"\n",
        "spark.sql(query).show()"
      ],
      "metadata": {
        "id": "heTG79_7YWfy",
        "colab": {
          "base_uri": "https://localhost:8080/"
        },
        "outputId": "0ed66ca3-de32-4d6b-e351-e676b711ecc6"
      },
      "execution_count": null,
      "outputs": [
        {
          "output_type": "stream",
          "name": "stdout",
          "text": [
            "+--------------------+\n",
            "|                path|\n",
            "+--------------------+\n",
            "|file:/tmp/deltaSales|\n",
            "+--------------------+\n",
            "\n"
          ]
        }
      ]
    },
    {
      "cell_type": "code",
      "source": [
        "query = \"\"\"\n",
        "DESCRIBE HISTORY delta.`/tmp/deltaSales`\n",
        "\"\"\"\n",
        "spark.sql(query).show()"
      ],
      "metadata": {
        "colab": {
          "base_uri": "https://localhost:8080/"
        },
        "id": "Aj-BO1c2WK3x",
        "outputId": "d5e1fe44-3a1f-4748-cf76-7d15ee7e216f"
      },
      "execution_count": null,
      "outputs": [
        {
          "output_type": "stream",
          "name": "stdout",
          "text": [
            "+-------+--------------------+------+--------+--------------------+--------------------+----+--------+---------+-----------+-----------------+-------------+--------------------+------------+--------------------+\n",
            "|version|           timestamp|userId|userName|           operation| operationParameters| job|notebook|clusterId|readVersion|   isolationLevel|isBlindAppend|    operationMetrics|userMetadata|          engineInfo|\n",
            "+-------+--------------------+------+--------+--------------------+--------------------+----+--------+---------+-----------+-----------------+-------------+--------------------+------------+--------------------+\n",
            "|     10|2024-10-16 18:07:...|  NULL|    NULL|          VACUUM END|{status -> COMPLE...|NULL|    NULL|     NULL|          9|SnapshotIsolation|         true|{numDeletedFiles ...|        NULL|Apache-Spark/3.5....|\n",
            "|      9|2024-10-16 18:06:...|  NULL|    NULL|        VACUUM START|{retentionCheckEn...|NULL|    NULL|     NULL|          8|SnapshotIsolation|         true|{numFilesToDelete...|        NULL|Apache-Spark/3.5....|\n",
            "|      8|2024-10-16 18:03:...|  NULL|    NULL|             RESTORE|{version -> 2, ti...|NULL|    NULL|     NULL|          7|     Serializable|        false|{numRestoredFiles...|        NULL|Apache-Spark/3.5....|\n",
            "|      7|2024-10-16 18:01:...|  NULL|    NULL|              DELETE|{predicate -> [\"(...|NULL|    NULL|     NULL|          6|     Serializable|        false|{numRemovedFiles ...|        NULL|Apache-Spark/3.5....|\n",
            "|      6|2024-10-16 18:00:...|  NULL|    NULL|              UPDATE|{predicate -> [\"(...|NULL|    NULL|     NULL|          5|     Serializable|        false|{numRemovedFiles ...|        NULL|Apache-Spark/3.5....|\n",
            "|      5|2024-10-16 17:59:...|  NULL|    NULL|              UPDATE|{predicate -> [\"(...|NULL|    NULL|     NULL|          4|     Serializable|        false|{numRemovedFiles ...|        NULL|Apache-Spark/3.5....|\n",
            "|      4|2024-10-16 17:58:...|  NULL|    NULL|              UPDATE|{predicate -> [\"(...|NULL|    NULL|     NULL|          3|     Serializable|        false|{numRemovedFiles ...|        NULL|Apache-Spark/3.5....|\n",
            "|      3|2024-10-16 17:57:...|  NULL|    NULL|              UPDATE|   {predicate -> []}|NULL|    NULL|     NULL|          2|     Serializable|        false|{numRemovedFiles ...|        NULL|Apache-Spark/3.5....|\n",
            "|      2|2024-10-16 17:56:...|  NULL|    NULL|              UPDATE|{predicate -> [\"(...|NULL|    NULL|     NULL|          1|     Serializable|        false|{numRemovedFiles ...|        NULL|Apache-Spark/3.5....|\n",
            "|      1|2024-10-16 17:28:...|  NULL|    NULL|               MERGE|{predicate -> [\"(...|NULL|    NULL|     NULL|          0|     Serializable|        false|{numTargetRowsCop...|        NULL|Apache-Spark/3.5....|\n",
            "|      0|2024-10-16 17:22:...|  NULL|    NULL|CREATE TABLE AS S...|{isManaged -> fal...|NULL|    NULL|     NULL|       NULL|     Serializable|         true|{numFiles -> 1, n...|        NULL|Apache-Spark/3.5....|\n",
            "+-------+--------------------+------+--------+--------------------+--------------------+----+--------+---------+-----------+-----------------+-------------+--------------------+------------+--------------------+\n",
            "\n"
          ]
        }
      ]
    },
    {
      "cell_type": "markdown",
      "source": [
        "## Change data feed"
      ],
      "metadata": {
        "id": "R7oLc2P-juaY"
      }
    },
    {
      "cell_type": "markdown",
      "source": [
        "### Table creation with CDF activated"
      ],
      "metadata": {
        "id": "GZ9_0glRj150"
      }
    },
    {
      "cell_type": "code",
      "source": [
        "query = \"\"\"\n",
        "CREATE TABLE IF NOT EXISTS salesOriginal\n",
        "USING csv\n",
        "OPTIONS (\n",
        "  header \"true\",\n",
        "  path \"/tmp/delta/sales/salesOriginal.csv\",\n",
        "  inferSchema \"true\"\n",
        ")\n",
        "\"\"\"\n",
        "spark.sql(query)"
      ],
      "metadata": {
        "colab": {
          "base_uri": "https://localhost:8080/"
        },
        "id": "DVjvb3jNjxW-",
        "outputId": "1f2ad277-8e17-49a1-fe46-53e1764a4cd6"
      },
      "execution_count": null,
      "outputs": [
        {
          "output_type": "execute_result",
          "data": {
            "text/plain": [
              "DataFrame[]"
            ]
          },
          "metadata": {},
          "execution_count": 108
        }
      ]
    },
    {
      "cell_type": "code",
      "source": [
        "query = \"\"\"\n",
        "CREATE TABLE delta.`/tmp/deltaSalesCDF` USING DELTA TBLPROPERTIES (delta.enableChangeDataFeed = true)\n",
        "AS SELECT * FROM salesOriginal\n",
        "\"\"\"\n",
        "spark.sql(query)"
      ],
      "metadata": {
        "colab": {
          "base_uri": "https://localhost:8080/"
        },
        "id": "RBYOz4X2j-xT",
        "outputId": "228a7e1b-c8d3-48d8-93cc-186398a5c989"
      },
      "execution_count": null,
      "outputs": [
        {
          "output_type": "execute_result",
          "data": {
            "text/plain": [
              "DataFrame[]"
            ]
          },
          "metadata": {},
          "execution_count": 109
        }
      ]
    },
    {
      "cell_type": "markdown",
      "source": [
        "### CDF for Updates"
      ],
      "metadata": {
        "id": "OmzXP3nNkhxi"
      }
    },
    {
      "cell_type": "code",
      "source": [
        "query = \"\"\"\n",
        "select count(*) as nb_rows from delta.`/tmp/deltaSalesCDF`\n",
        "\"\"\"\n",
        "spark.sql(query).show()"
      ],
      "metadata": {
        "colab": {
          "base_uri": "https://localhost:8080/"
        },
        "id": "DA4VSmLr98cY",
        "outputId": "5c1aa9d2-b298-48f6-ffbf-2afa30c7fcdd"
      },
      "execution_count": null,
      "outputs": [
        {
          "output_type": "stream",
          "name": "stdout",
          "text": [
            "+-------+\n",
            "|nb_rows|\n",
            "+-------+\n",
            "|   4916|\n",
            "+-------+\n",
            "\n"
          ]
        }
      ]
    },
    {
      "cell_type": "code",
      "source": [
        "query = \"\"\"\n",
        "describe delta.`/tmp/deltaSalesCDF`\n",
        "\"\"\"\n",
        "spark.sql(query).show()"
      ],
      "metadata": {
        "colab": {
          "base_uri": "https://localhost:8080/"
        },
        "id": "58aHIwWM83Tp",
        "outputId": "79fac2de-ff25-41f4-d802-58c0f6fe3b21"
      },
      "execution_count": null,
      "outputs": [
        {
          "output_type": "stream",
          "name": "stdout",
          "text": [
            "+-------------+---------+-------+\n",
            "|     col_name|data_type|comment|\n",
            "+-------------+---------+-------+\n",
            "|       saleid|   string|   NULL|\n",
            "|     saledate|     date|   NULL|\n",
            "|     quantity|   double|   NULL|\n",
            "|    unitprice|   double|   NULL|\n",
            "|       shopid|   string|   NULL|\n",
            "|         city|   string|   NULL|\n",
            "|        state|   string|   NULL|\n",
            "|      country|   string|   NULL|\n",
            "|     shopsize|   string|   NULL|\n",
            "|    productid|   string|   NULL|\n",
            "|     category|   string|   NULL|\n",
            "|  subcategory|   string|   NULL|\n",
            "|         size|   string|   NULL|\n",
            "|purchaseprice|   double|   NULL|\n",
            "|        color|   string|   NULL|\n",
            "|        brand|   string|   NULL|\n",
            "+-------------+---------+-------+\n",
            "\n"
          ]
        }
      ]
    },
    {
      "cell_type": "code",
      "source": [
        "query = \"\"\"\n",
        "UPDATE delta.`/tmp/deltaSalesCDF`\n",
        "SET unitprice = unitprice * 1.05\n",
        "WHERE saledate >= '2023-02-01' and category='Cloth'\n",
        "\"\"\"\n",
        "spark.sql(query).show()"
      ],
      "metadata": {
        "colab": {
          "base_uri": "https://localhost:8080/"
        },
        "id": "DLJ8O6lWkkhE",
        "outputId": "d9bbbc9d-d500-4ee7-e159-1138b05190eb"
      },
      "execution_count": null,
      "outputs": [
        {
          "output_type": "stream",
          "name": "stdout",
          "text": [
            "+-----------------+\n",
            "|num_affected_rows|\n",
            "+-----------------+\n",
            "|              765|\n",
            "+-----------------+\n",
            "\n"
          ]
        }
      ]
    },
    {
      "cell_type": "code",
      "source": [
        "query = \"\"\"\n",
        "SELECT * FROM table_changes_by_path('/tmp/deltaSalesCDF', 0)\n",
        "\"\"\"\n",
        "spark.sql(query)\n"
      ],
      "metadata": {
        "colab": {
          "base_uri": "https://localhost:8080/"
        },
        "id": "VxKvoYpfjwys",
        "outputId": "35507e81-105a-4e72-de2e-fb9ee6786288"
      },
      "execution_count": null,
      "outputs": [
        {
          "output_type": "execute_result",
          "data": {
            "text/plain": [
              "DataFrame[saleid: string, saledate: date, quantity: double, unitprice: double, shopid: string, city: string, state: string, country: string, shopsize: string, productid: string, category: string, subcategory: string, size: string, purchaseprice: double, color: string, brand: string, _change_type: string, _commit_version: bigint, _commit_timestamp: timestamp]"
            ]
          },
          "metadata": {},
          "execution_count": 123
        }
      ]
    },
    {
      "cell_type": "code",
      "source": [
        "query = \"\"\"\n",
        "SELECT _change_type, _commit_version, _commit_timestamp, count(*)\n",
        "FROM table_changes_by_path('/tmp/deltaSalesCDF', 0)\n",
        "GROUP BY _change_type, _commit_version, _commit_timestamp\n",
        "\"\"\"\n",
        "spark.sql(query).show()"
      ],
      "metadata": {
        "colab": {
          "base_uri": "https://localhost:8080/"
        },
        "id": "d76UtMwblcHo",
        "outputId": "965cf605-9c3b-4511-91bc-b40bc9a6b473"
      },
      "execution_count": null,
      "outputs": [
        {
          "output_type": "stream",
          "name": "stdout",
          "text": [
            "+----------------+---------------+--------------------+--------+\n",
            "|    _change_type|_commit_version|   _commit_timestamp|count(1)|\n",
            "+----------------+---------------+--------------------+--------+\n",
            "| update_preimage|              1|2024-10-16 18:10:...|     765|\n",
            "|update_postimage|              1|2024-10-16 18:10:...|     765|\n",
            "|          insert|              0|2024-10-16 18:09:...|    4916|\n",
            "+----------------+---------------+--------------------+--------+\n",
            "\n"
          ]
        }
      ]
    },
    {
      "cell_type": "code",
      "source": [
        "query = \"\"\"\n",
        "SELECT saleid, _change_type, unitprice\n",
        "FROM table_changes_by_path('/tmp/deltaSalesCDF', 0)\n",
        "WHERE saledate >= '2023-02-01' and category='Cloth' and _commit_version = 1\n",
        "CLUSTER BY saleid\n",
        "\"\"\"\n",
        "spark.sql(query).show()"
      ],
      "metadata": {
        "colab": {
          "base_uri": "https://localhost:8080/"
        },
        "id": "vVQbly6BkXeY",
        "outputId": "33411382-9114-4caa-e71a-5a228b1bb08f"
      },
      "execution_count": null,
      "outputs": [
        {
          "output_type": "stream",
          "name": "stdout",
          "text": [
            "+----------+----------------+------------------+\n",
            "|    saleid|    _change_type|         unitprice|\n",
            "+----------+----------------+------------------+\n",
            "|S000000007| update_preimage|              20.0|\n",
            "|S000000007|update_postimage|              21.0|\n",
            "|S000000008| update_preimage|              20.0|\n",
            "|S000000008|update_postimage|              21.0|\n",
            "|S000000009| update_preimage|              22.0|\n",
            "|S000000009|update_postimage|              23.1|\n",
            "|S000000010| update_preimage|              24.0|\n",
            "|S000000010|update_postimage|25.200000000000003|\n",
            "|S000000011| update_preimage|              24.0|\n",
            "|S000000011|update_postimage|25.200000000000003|\n",
            "|S000000012| update_preimage|              45.0|\n",
            "|S000000012|update_postimage|             47.25|\n",
            "|S000000013| update_preimage|              48.0|\n",
            "|S000000013|update_postimage|50.400000000000006|\n",
            "|S000000014| update_preimage|              49.0|\n",
            "|S000000014|update_postimage|             51.45|\n",
            "|S000000015| update_preimage|              60.0|\n",
            "|S000000015|update_postimage|              63.0|\n",
            "|S000000016| update_preimage|              60.0|\n",
            "|S000000016|update_postimage|              63.0|\n",
            "+----------+----------------+------------------+\n",
            "only showing top 20 rows\n",
            "\n"
          ]
        }
      ]
    },
    {
      "cell_type": "markdown",
      "source": [
        "### CDF for Deletes"
      ],
      "metadata": {
        "id": "OseLpQxFnKCB"
      }
    },
    {
      "cell_type": "code",
      "source": [
        "query = \"\"\"\n",
        "DELETE FROM delta.`/tmp/deltaSalesCDF`\n",
        "WHERE city = 'Chicago' and category='Cloth'\n",
        "\"\"\"\n",
        "spark.sql(query).show()"
      ],
      "metadata": {
        "colab": {
          "base_uri": "https://localhost:8080/"
        },
        "id": "384NC-GZnO9w",
        "outputId": "3ee21ba3-543c-4ccc-ee16-3f4d29ce475a"
      },
      "execution_count": null,
      "outputs": [
        {
          "output_type": "stream",
          "name": "stdout",
          "text": [
            "+-----------------+\n",
            "|num_affected_rows|\n",
            "+-----------------+\n",
            "|              244|\n",
            "+-----------------+\n",
            "\n"
          ]
        }
      ]
    },
    {
      "cell_type": "code",
      "source": [
        "query = \"\"\"\n",
        "SELECT _change_type, _commit_version, _commit_timestamp, count(*)\n",
        "FROM table_changes_by_path('/tmp/deltaSalesCDF', 0)\n",
        "GROUP BY _change_type, _commit_version, _commit_timestamp\n",
        "\"\"\"\n",
        "spark.sql(query).show()"
      ],
      "metadata": {
        "colab": {
          "base_uri": "https://localhost:8080/"
        },
        "id": "j2hfvqPWnO2p",
        "outputId": "350c8d61-2b76-496c-b79d-a0c36dba250a"
      },
      "execution_count": null,
      "outputs": [
        {
          "output_type": "stream",
          "name": "stdout",
          "text": [
            "+----------------+---------------+--------------------+--------+\n",
            "|    _change_type|_commit_version|   _commit_timestamp|count(1)|\n",
            "+----------------+---------------+--------------------+--------+\n",
            "| update_preimage|              1|2024-10-16 18:10:...|     765|\n",
            "|update_postimage|              1|2024-10-16 18:10:...|     765|\n",
            "|          delete|              2|2024-10-16 18:19:...|     244|\n",
            "|          insert|              0|2024-10-16 18:09:...|    4916|\n",
            "+----------------+---------------+--------------------+--------+\n",
            "\n"
          ]
        }
      ]
    },
    {
      "cell_type": "markdown",
      "source": [
        "Retrieve the deleted records"
      ],
      "metadata": {
        "id": "dvxfKgRCoyTD"
      }
    },
    {
      "cell_type": "code",
      "source": [
        "query = \"\"\"\n",
        "SELECT distinct city, category\n",
        "FROM table_changes_by_path('/tmp/deltaSalesCDF', 2)\n",
        "\"\"\"\n",
        "spark.sql(query).show()"
      ],
      "metadata": {
        "colab": {
          "base_uri": "https://localhost:8080/"
        },
        "id": "oTEnGL67ovj4",
        "outputId": "f18f9590-1a58-4a61-f490-53a37a3c698f"
      },
      "execution_count": null,
      "outputs": [
        {
          "output_type": "stream",
          "name": "stdout",
          "text": [
            "+-------+--------+\n",
            "|   city|category|\n",
            "+-------+--------+\n",
            "|Chicago|   Cloth|\n",
            "+-------+--------+\n",
            "\n"
          ]
        }
      ]
    },
    {
      "cell_type": "markdown",
      "source": [
        "### Suggest an update operation then audit the changes\n",
        "\n",
        "\n"
      ],
      "metadata": {
        "id": "RT0wUVKlAkiF"
      }
    },
    {
      "cell_type": "code",
      "source": [
        "query = \"\"\"\n",
        "UPDATE delta.`/tmp/deltaSalesCDF`\n",
        "SET purchaseprice = purchaseprice * 2\n",
        "WHERE saledate >= '2022-09-01' and category = 'Furniture'\n",
        "\"\"\"\n",
        "spark.sql(query).show()"
      ],
      "metadata": {
        "id": "JtXCkrgpA3sD",
        "colab": {
          "base_uri": "https://localhost:8080/"
        },
        "outputId": "616f707f-4aea-4f43-fcc8-27428cc4ac32"
      },
      "execution_count": null,
      "outputs": [
        {
          "output_type": "stream",
          "name": "stdout",
          "text": [
            "+-----------------+\n",
            "|num_affected_rows|\n",
            "+-----------------+\n",
            "|             1692|\n",
            "+-----------------+\n",
            "\n"
          ]
        }
      ]
    },
    {
      "cell_type": "code",
      "source": [
        "query = \"\"\"\n",
        "SELECT _change_type, _commit_version, _commit_timestamp, count(*)\n",
        "FROM table_changes_by_path('/tmp/deltaSalesCDF', 0)\n",
        "GROUP BY _change_type, _commit_version, _commit_timestamp\n",
        "\"\"\"\n",
        "spark.sql(query).show()"
      ],
      "metadata": {
        "colab": {
          "base_uri": "https://localhost:8080/"
        },
        "id": "-Q8-yK4kl53q",
        "outputId": "cfd00f0d-c627-46dd-cf09-3b52fc4c776f"
      },
      "execution_count": null,
      "outputs": [
        {
          "output_type": "stream",
          "name": "stdout",
          "text": [
            "+----------------+---------------+--------------------+--------+\n",
            "|    _change_type|_commit_version|   _commit_timestamp|count(1)|\n",
            "+----------------+---------------+--------------------+--------+\n",
            "| update_preimage|              1|2024-10-16 18:10:...|     765|\n",
            "|update_postimage|              1|2024-10-16 18:10:...|     765|\n",
            "| update_preimage|              3|2024-10-16 18:29:...|    1692|\n",
            "|update_postimage|              3|2024-10-16 18:29:...|    1692|\n",
            "|          delete|              2|2024-10-16 18:19:...|     244|\n",
            "|          insert|              0|2024-10-16 18:09:...|    4916|\n",
            "+----------------+---------------+--------------------+--------+\n",
            "\n"
          ]
        }
      ]
    },
    {
      "cell_type": "code",
      "source": [
        "query = \"\"\"\n",
        "SELECT saleid, _change_type, purchaseprice\n",
        "FROM table_changes_by_path('/tmp/deltaSalesCDF', 0)\n",
        "WHERE saledate >= '2022-09-01' and category='Furniture' and _commit_version = 3\n",
        "CLUSTER BY saleid\n",
        "\"\"\"\n",
        "spark.sql(query).show()"
      ],
      "metadata": {
        "colab": {
          "base_uri": "https://localhost:8080/"
        },
        "id": "K42184NNmRGw",
        "outputId": "a2aa1f49-405f-47d8-df80-9573b5095ffb"
      },
      "execution_count": null,
      "outputs": [
        {
          "output_type": "stream",
          "name": "stdout",
          "text": [
            "+----------+----------------+-------------+\n",
            "|    saleid|    _change_type|purchaseprice|\n",
            "+----------+----------------+-------------+\n",
            "|S000000002| update_preimage|         48.0|\n",
            "|S000000002|update_postimage|         96.0|\n",
            "|S000000003| update_preimage|        127.0|\n",
            "|S000000003|update_postimage|        254.0|\n",
            "|S000000004| update_preimage|        252.0|\n",
            "|S000000004|update_postimage|        504.0|\n",
            "|S000000005| update_preimage|        333.0|\n",
            "|S000000005|update_postimage|        666.0|\n",
            "|S000000006| update_preimage|        375.0|\n",
            "|S000000006|update_postimage|        750.0|\n",
            "|S000000021| update_preimage|        190.0|\n",
            "|S000000021|update_postimage|        380.0|\n",
            "|S000000022| update_preimage|        280.0|\n",
            "|S000000022|update_postimage|        560.0|\n",
            "|S000000023| update_preimage|         48.0|\n",
            "|S000000023|update_postimage|         96.0|\n",
            "|S000000024| update_preimage|        127.0|\n",
            "|S000000024|update_postimage|        254.0|\n",
            "|S000000025| update_preimage|        252.0|\n",
            "|S000000025|update_postimage|        504.0|\n",
            "+----------+----------------+-------------+\n",
            "only showing top 20 rows\n",
            "\n"
          ]
        }
      ]
    },
    {
      "cell_type": "markdown",
      "source": [
        "### Suggest a delete operation then audit the changes\n"
      ],
      "metadata": {
        "id": "1sA5GrUfA4M0"
      }
    },
    {
      "cell_type": "code",
      "source": [
        "query = \"\"\"\n",
        "DELETE FROM delta.`/tmp/deltaSalesCDF`\n",
        "WHERE country = 'USA'\n",
        "\"\"\"\n",
        "spark.sql(query).show()"
      ],
      "metadata": {
        "id": "qpoPWy9KA9Oh",
        "colab": {
          "base_uri": "https://localhost:8080/"
        },
        "outputId": "3e810487-b99f-47eb-f796-53b794c85552"
      },
      "execution_count": null,
      "outputs": [
        {
          "output_type": "stream",
          "name": "stdout",
          "text": [
            "+-----------------+\n",
            "|num_affected_rows|\n",
            "+-----------------+\n",
            "|             2672|\n",
            "+-----------------+\n",
            "\n"
          ]
        }
      ]
    },
    {
      "cell_type": "code",
      "source": [
        "query = \"\"\"\n",
        "SELECT _change_type, _commit_version, _commit_timestamp, count(*)\n",
        "FROM table_changes_by_path('/tmp/deltaSalesCDF', 0)\n",
        "GROUP BY _change_type, _commit_version, _commit_timestamp\n",
        "\"\"\"\n",
        "spark.sql(query).show()"
      ],
      "metadata": {
        "colab": {
          "base_uri": "https://localhost:8080/"
        },
        "id": "g259fZEVm6Xf",
        "outputId": "4a5c705b-3ac7-46a1-dd5c-c3acc64ede9f"
      },
      "execution_count": null,
      "outputs": [
        {
          "output_type": "stream",
          "name": "stdout",
          "text": [
            "+----------------+---------------+--------------------+--------+\n",
            "|    _change_type|_commit_version|   _commit_timestamp|count(1)|\n",
            "+----------------+---------------+--------------------+--------+\n",
            "|          delete|              4|2024-10-16 18:33:...|    2672|\n",
            "| update_preimage|              3|2024-10-16 18:29:...|    1692|\n",
            "|update_postimage|              3|2024-10-16 18:29:...|    1692|\n",
            "| update_preimage|              1|2024-10-16 18:10:...|     765|\n",
            "|update_postimage|              1|2024-10-16 18:10:...|     765|\n",
            "|          delete|              2|2024-10-16 18:19:...|     244|\n",
            "|          insert|              0|2024-10-16 18:09:...|    4916|\n",
            "+----------------+---------------+--------------------+--------+\n",
            "\n"
          ]
        }
      ]
    },
    {
      "cell_type": "code",
      "source": [
        "query = \"\"\"\n",
        "SELECT saleid, _change_type, country\n",
        "FROM table_changes_by_path('/tmp/deltaSalesCDF', 0)\n",
        "WHERE country = 'USA' and _commit_version = 4\n",
        "CLUSTER BY saleid\n",
        "\"\"\"\n",
        "spark.sql(query).show()"
      ],
      "metadata": {
        "colab": {
          "base_uri": "https://localhost:8080/"
        },
        "id": "dQEpKEHtnTXk",
        "outputId": "4c71872d-b4de-46a0-a8e6-19ee398fdad3"
      },
      "execution_count": null,
      "outputs": [
        {
          "output_type": "stream",
          "name": "stdout",
          "text": [
            "+----------+------------+-------+\n",
            "|    saleid|_change_type|country|\n",
            "+----------+------------+-------+\n",
            "|S000000002|      delete|    USA|\n",
            "|S000000003|      delete|    USA|\n",
            "|S000000004|      delete|    USA|\n",
            "|S000000005|      delete|    USA|\n",
            "|S000000006|      delete|    USA|\n",
            "|S000000016|      delete|    USA|\n",
            "|S000000017|      delete|    USA|\n",
            "|S000000018|      delete|    USA|\n",
            "|S000000019|      delete|    USA|\n",
            "|S000000020|      delete|    USA|\n",
            "|S000000021|      delete|    USA|\n",
            "|S000000022|      delete|    USA|\n",
            "|S000000023|      delete|    USA|\n",
            "|S000000032|      delete|    USA|\n",
            "|S000000033|      delete|    USA|\n",
            "|S000000034|      delete|    USA|\n",
            "|S000000035|      delete|    USA|\n",
            "|S000000036|      delete|    USA|\n",
            "|S000000037|      delete|    USA|\n",
            "|S000000038|      delete|    USA|\n",
            "+----------+------------+-------+\n",
            "only showing top 20 rows\n",
            "\n"
          ]
        }
      ]
    },
    {
      "cell_type": "code",
      "source": [
        "query = \"\"\"\n",
        "SELECT distinct country\n",
        "FROM table_changes_by_path('/tmp/deltaSalesCDF', 4)\n",
        "\"\"\"\n",
        "spark.sql(query).show()"
      ],
      "metadata": {
        "colab": {
          "base_uri": "https://localhost:8080/"
        },
        "id": "_1Kvg82SnJ1l",
        "outputId": "a99d5bed-1b39-46df-8be5-1e60babf1189"
      },
      "execution_count": null,
      "outputs": [
        {
          "output_type": "stream",
          "name": "stdout",
          "text": [
            "+-------+\n",
            "|country|\n",
            "+-------+\n",
            "|    USA|\n",
            "+-------+\n",
            "\n"
          ]
        }
      ]
    },
    {
      "cell_type": "markdown",
      "source": [
        "## Where to go from here"
      ],
      "metadata": {
        "id": "2hxkB0BZCcgX"
      }
    },
    {
      "cell_type": "markdown",
      "source": [
        "Study the possibility of loading JSON data with varying types by reading the official documentation is https://github.com/delta-io/delta/releases/tag/v4.0.0rc1\n",
        "\n",
        "Practice: load the `vk` dataset from the [JSON notebook](https://colab.research.google.com/drive/1Cs6nxmkxr2VCU1PslBYPouoIVLk_5WbT?usp=drive_link)"
      ],
      "metadata": {
        "id": "AHi6lXdqCg4X"
      }
    },
    {
      "cell_type": "code",
      "source": [],
      "metadata": {
        "id": "IGNP-vKTCb-v"
      },
      "execution_count": null,
      "outputs": []
    }
  ]
}